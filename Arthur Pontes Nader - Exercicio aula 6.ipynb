{
 "cells": [
  {
   "cell_type": "markdown",
   "metadata": {},
   "source": [
    "# Exercicio da aula 6"
   ]
  },
  {
   "cell_type": "markdown",
   "metadata": {},
   "source": [
    "# Nome: Arthur Pontes Nader        Matricula: 2019022294"
   ]
  },
  {
   "cell_type": "markdown",
   "metadata": {},
   "source": [
    "## 1"
   ]
  },
  {
   "cell_type": "code",
   "execution_count": 1,
   "metadata": {},
   "outputs": [
    {
     "name": "stdout",
     "output_type": "stream",
     "text": [
      "019022\n",
      "90222\n",
      "201\n",
      "022294\n",
      "29\n",
      "2924\n",
      "102\n",
      "922209102\n",
      "492\n",
      "49\n"
     ]
    }
   ],
   "source": [
    "a = \"2019022294\"\n",
    "print(a[1:7])\n",
    "print(a[3:-2])\n",
    "print(a[:3])\n",
    "print(a[4:])\n",
    "print(a[-3:9])\n",
    "print(a[::3])\n",
    "print(a[2::-1])\n",
    "print(a[-2::-1])\n",
    "print(a[:6:-1])\n",
    "print(a[:-3:-1])"
   ]
  },
  {
   "cell_type": "markdown",
   "metadata": {},
   "source": [
    "A posição do começo ao fim segue-se a ordem dos números naturais: 0,1,2,3,4,5,...\n",
    "Do fim ao começo segue a ordem dos numero inteiros negativos: -1,-2,-3,-4,-5,-6,...\n",
    "\n",
    "a[1:7] -  o primeiro termo desse fatiamente indica a posição que começará o recorte, no caso em 1, já o segundo indica que ele irá parar em 7-1, ou seja, na posição 6.\n",
    "\n",
    "a[3:-2] - o fatiamento será o intervalo da posição 3 até a posição -2-1, portanto de 3 até -3\n",
    "\n",
    "a[:3] - indica que o fatiamento ocorrerá desde a posição 0 até 3-1, ou seja, da posição 0 até a posição 2 (incluindo-a).\n",
    "\n",
    "a[4:] - o fatiamento sera da posição 4 até a posição final-1 (ou a posição -2, incluindo-a)\n",
    "\n",
    "a[-3:9] - o fatiamento será a intersecção de [-3:] e [:9]\n",
    "\n",
    "a[::3] - o fatiamento será realizado do começo ao fim dividindo-se a sequência em grupos de 3 e se retirando o primeiro termo de cada grupo\n",
    "\n",
    "a[2::-1] - A sequência original é contada da posição 0 até a 2 (incluindo-a). Uma vez que o salto é negativo, o fatiamento será invertido.\n",
    "\n",
    "a[-2::-1] -  O fatiamento será da direita para a esquerda (invertido), da posição -ini (incluindo-a) até o inicio , ou seja de -2 até o primeiro temo.\n",
    "\n",
    "a[:6:-1] - Da direita para a esquerda, o fatiamento é o que vai da posição -1 até -len(seq)+fim+1 (incluindo-a), nesse exemplo seria de -1 até -3.\n",
    "\n",
    "a[:-3:-1] - Da direita para a esquerda, a fatia será o que vai da posição -1 até -fim+1 (incluindo-a), no caso de -1 até -2."
   ]
  },
  {
   "cell_type": "markdown",
   "metadata": {},
   "source": [
    "## 2"
   ]
  },
  {
   "cell_type": "code",
   "execution_count": 44,
   "metadata": {},
   "outputs": [
    {
     "name": "stdout",
     "output_type": "stream",
     "text": [
      "H\n",
      "H\n"
     ]
    }
   ],
   "source": [
    "s = \"ABCDEFGHI\"\n",
    "print(s[-2:-1])\n",
    "print(s[7:6:-1])"
   ]
  },
  {
   "cell_type": "markdown",
   "metadata": {},
   "source": [
    "O valor de x deve ser 7 e o de y deve ser 6"
   ]
  },
  {
   "cell_type": "markdown",
   "metadata": {},
   "source": [
    "## 3"
   ]
  },
  {
   "cell_type": "code",
   "execution_count": null,
   "metadata": {},
   "outputs": [],
   "source": [
    "a = input(\"Digite o que sera analisado: \")\n",
    "if a == (a[::-1]):\n",
    "    print(\"A 'string' é igual se lida de tras para frente\")\n",
    "else:\n",
    "    print(\"A 'string' nao é igual se lida de tras para frente\")"
   ]
  },
  {
   "cell_type": "markdown",
   "metadata": {},
   "source": [
    "## 4"
   ]
  },
  {
   "cell_type": "markdown",
   "metadata": {},
   "source": [
    "### 4.1"
   ]
  },
  {
   "cell_type": "markdown",
   "metadata": {},
   "source": [
    "### 4.2"
   ]
  },
  {
   "cell_type": "markdown",
   "metadata": {},
   "source": [
    "## 5"
   ]
  },
  {
   "cell_type": "code",
   "execution_count": 3,
   "metadata": {},
   "outputs": [
    {
     "name": "stdout",
     "output_type": "stream",
     "text": [
      "Digite a hora do primeiro horario:16\n",
      "Digite os minutos do primeiro horario:  45\n",
      "Digite a hora do segundo horario: 123\n",
      "Erro! Você deve entrar com um valor inteiro entre 00 e 23\n",
      "Digite a hora do segundo horario: sad\n",
      "Erro! Você deve entrar com um valor inteiro entre 00 e 23\n",
      "Digite a hora do segundo horario: 9\n",
      "Digite os minutos do segundo horario: 20\n",
      "A diferença entre os horarios é de 07 : 25.\n",
      "A diferença entre os horarios é de 445 minutos.\n",
      "A diferença entre os horarios é de 26700 segundos.\n"
     ]
    }
   ],
   "source": [
    "while True:\n",
    "    try:\n",
    "        a = int(input(\"Digite a hora do primeiro horario:\"))\n",
    "        if a < 0 or a > 23 :\n",
    "            print (\"Erro! Voce deve entrar com um valor inteiro entre 00 e 23\")\n",
    "            continue\n",
    "        break\n",
    "    except ValueError:  \n",
    "        print(\"Erro! Voce deve entrar com um valor inteiro entre 00 e 23\")\n",
    "while True:\n",
    "    try:\n",
    "        b = int(input(\"Digite os minutos do primeiro horario:  \"))\n",
    "        if b < 0 or b > 59 :\n",
    "            print (\"Erro! Voce deve entrar com um valor inteiro entre 00 e 59\")\n",
    "            continue\n",
    "        break\n",
    "    except ValueError:  \n",
    "        print(\"Erro! Voce deve entrar com um valor inteiro entre 00 e 59\")\n",
    "while True:\n",
    "    try:\n",
    "        c = int(input(\"Digite a hora do segundo horario: \"))\n",
    "        if c < 0 or c > 23 :\n",
    "            print (\"Erro! Voce deve entrar com um valor inteiro entre 00 e 23\")\n",
    "            continue\n",
    "        break\n",
    "    except ValueError:\n",
    "        print(\"Erro! Voce deve entrar com um valor inteiro entre 00 e 23\")\n",
    "while True:\n",
    "    try:\n",
    "        d = int(input(\"Digite os minutos do segundo horario: \"))\n",
    "        if d < 0 or d > 59 :\n",
    "            print (\"Erro! Voce deve entrar com um valor inteiro entre 00 e 59\")\n",
    "            continue\n",
    "        break\n",
    "    except ValueError:\n",
    "        print(\"Erro! Voce deve entrar com um valor inteiro entre 00 e 59\")\n",
    "diferença_em_minutos = (a*60 + b) - (c*60 + d)\n",
    "diferença_em_segundos = (a*3600 + b*60) - (c* 3600 + d*60)\n",
    "if d <= b or a == c:\n",
    "    diferença_em_horas = (a-c)\n",
    "    diferença_em_horas_e_minutos = (b-d) \n",
    "elif d > b :\n",
    "    diferença_em_horas = (a-c-1)\n",
    "    diferença_em_horas_e_minutos = (b+60-d)\n",
    "print (\"A diferença entre os horarios é de %02d : %02d.\" %(diferença_em_horas,diferença_em_horas_e_minutos))\n",
    "print (\"A diferença entre os horarios é de %d minutos.\" %diferença_em_minutos)\n",
    "print (\"A diferença entre os horarios é de %d segundos.\" %diferença_em_segundos)\n",
    "    "
   ]
  },
  {
   "cell_type": "markdown",
   "metadata": {},
   "source": [
    "## 6"
   ]
  },
  {
   "cell_type": "code",
   "execution_count": 5,
   "metadata": {},
   "outputs": [
    {
     "name": "stdout",
     "output_type": "stream",
     "text": [
      "Digite o primeiro lado: -12\n",
      "Erro! Você deve entrar com um numero real positivo!\n",
      "Digite o primeiro lado: 12\n",
      "Digite o segundo lado: 5\n",
      "Digite o terceiro lado: asd\n",
      "Erro! Você deve entrar com um numero real positivo!\n",
      "Digite o terceiro lado: 10.5\n",
      "A diagonal da face ab é 13.000000000\n",
      "A diagonal da face ac é 15.945218719\n",
      "A diagonal da face bc é 7.071067812\n",
      "A diagonal do paralelepipedo é 16.710774967\n"
     ]
    }
   ],
   "source": [
    "while True:\n",
    "    try:\n",
    "        a = float(input(\"Digite o primeiro lado: \"))\n",
    "        if a <= 0.0:\n",
    "            print (\"Erro! Voce deve entrar com um numero real positivo!\")\n",
    "            continue\n",
    "        break\n",
    "    except ValueError:\n",
    "        print(\"Erro! Voce deve entrar com um real numero positivo!\")\n",
    "while True:\n",
    "    try:\n",
    "        b = float(input(\"Digite o segundo lado: \"))\n",
    "        if b <= 0.0:\n",
    "            print (\"Erro! Voce deve entrar com um numero real positivo!\")\n",
    "            continue\n",
    "        break\n",
    "    except ValueError:\n",
    "        print(\"Erro! Voce deve entrar com um numero real positivo!\")\n",
    "while True:\n",
    "    try:\n",
    "        c = float(input(\"Digite o terceiro lado: \"))\n",
    "        if b <= 0.0:\n",
    "            print (\"Erro! Voce deve entrar com um numero real positivo!\")\n",
    "            continue\n",
    "        break\n",
    "    except ValueError:\n",
    "        print(\"Erro! Voce deve entrar com um numero real positivo!\")\n",
    "diagonal_ab = (a**2 + b**2)**(1/2)\n",
    "diagonal_ac = (a**2 + c**2)**(1/2)\n",
    "diagonal_bc = (b**2 + b**2)**(1/2)\n",
    "diagonal_paralelepipedo = (a**2 + b**2 + c**2)**(1/2)\n",
    "print(\"A diagonal da face ab é %10.9f\" %diagonal_ab)\n",
    "print(\"A diagonal da face ac é %10.9f\" %diagonal_ac)\n",
    "print(\"A diagonal da face bc é %10.9f\" %diagonal_bc)\n",
    "print(\"A diagonal do paralelepipedo é %10.9f\" %diagonal_paralelepipedo)\n"
   ]
  }
 ],
 "metadata": {
  "kernelspec": {
   "display_name": "Python 3",
   "language": "python",
   "name": "python3"
  },
  "language_info": {
   "codemirror_mode": {
    "name": "ipython",
    "version": 3
   },
   "file_extension": ".py",
   "mimetype": "text/x-python",
   "name": "python",
   "nbconvert_exporter": "python",
   "pygments_lexer": "ipython3",
   "version": "3.7.3"
  }
 },
 "nbformat": 4,
 "nbformat_minor": 2
}
