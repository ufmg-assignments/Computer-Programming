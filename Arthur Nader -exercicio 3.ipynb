{
 "cells": [
  {
   "cell_type": "markdown",
   "metadata": {},
   "source": [
    "# Nome: Arthur Pontes Nader - 2019022294\n",
    "\n",
    "# Exercício 3\n",
    "## 1\n",
    "### 1.1\n",
    "\n",
    "x > y ou x = y\n",
    "\n",
    "### 1.2\n",
    "\n",
    "x < y ou x = y\n",
    "\n",
    "### 1.3\n",
    "\n",
    "x > y ou x < y\n",
    "\n",
    "### 1.4\n",
    "\n",
    "x = 0 ou x > 0\n",
    "\n",
    "### 1.5\n",
    "\n",
    "x > 0 se y = 0 ou y > 0\n",
    "\n",
    "### 1.6\n",
    "\n",
    "x = 0 ou x > 0, se e somente se y > 0 ou y = 0\n",
    "\n",
    "## 2\n",
    "### 2.1\n",
    "\n",
    "x    y     x > y ou x = y\n",
    "0    0           V\n",
    "0    1           F\n",
    "1    0           V\n",
    "1    1           V\n",
    "\n",
    "### 2.2\n",
    "\n",
    "x    y    x < y ou x = y\n",
    "0    0          V\n",
    "0    1          V\n",
    "1    0          F\n",
    "1    1          V\n",
    "\n",
    "### 2.3\n",
    "\n",
    "x    y   x > y ou x < y\n",
    "0    0         F\n",
    "0    1         V\n",
    "1    0         V\n",
    "1    1         F \n",
    "\n",
    "### 2.4\n",
    "\n",
    "x      x = 0 ou x > 0\n",
    "-1           F\n",
    "0            V\n",
    "1            V\n",
    "\n",
    "### 2.5\n",
    "\n",
    "x    y   x > 0 se y = 0 ou y > 0\n",
    "-1  -1            F\n",
    "-1   0            F\n",
    "1   -1            F\n",
    "1    0            V\n",
    "\n",
    "### 2.6\n",
    "\n",
    "x    y   x = 0 ou x > 0, se e somente se y > 0 ou y = 0\n",
    "-1  -1                    F                            \n",
    "-1   0                    F\n",
    "0   -1                    F\n",
    "0    0                    V\n",
    "\n",
    "## 3\n",
    "### 3.1\n",
    "\n",
    "A    B    A ⊗ B\n",
    "F    F      F\n",
    "F    V      V\n",
    "V    F      V\n",
    "V    V      F\n",
    "\n",
    "### 3.2\n",
    "\n",
    "A    B   ¬ (¬ A ∨ B ∧ ¬ B ∨ A)\n",
    "F    F              F\n",
    "F    V              V\n",
    "V    F              V\n",
    "V    V              F\n",
    "\n",
    "## 4\n",
    "\n",
    "A    B    A ↔ B\n",
    "F    F      V \n",
    "F    V      F\n",
    "V    F      F\n",
    "V    V      V\n",
    "\n",
    "As tabelas de 3.1 e 3.2 possuem a última coluna com valores de verdade opostos a última coluna de A ↔ B.\n",
    "\n",
    "\n",
    "## 5\n",
    "### 5.1\n",
    "\n",
    "¬x ≤ y\n",
    "x > y\n",
    "\n",
    "### 5.2\n",
    "\n",
    "¬x > y \n",
    "x ≤ y\n",
    "\n",
    "### 5.3\n",
    "\n",
    "x ≥ y ∧ x < y\n",
    "x > y ∨ x = y ∧ x < y\n",
    "x > y ∨ x < y ∧ x = y\n",
    "x ≠ y ∧ x = y\n",
    "Sempre falso\n",
    "\n",
    "### 5.4\n",
    "\n",
    "x ≤ y ∨ x > y \n",
    "x = y ou x < y ou x > y\n",
    "Sempre verdadeiro\n",
    "\n",
    "### 5.5\n",
    "\n",
    "0 ≤ x ≤ 10\n",
    "0 = x ou 0 < x e x = 10 ou x < 10\n",
    "\n",
    "### 5.6\n",
    "\n",
    "¬ (a ∨ ¬ b)\n",
    "¬ a ∧ b\n",
    "\n",
    "### 5.7\n",
    "\n",
    "¬ a → b\n",
    "a V b\n",
    "\n",
    "### 5.8\n",
    "\n",
    "¬( a → b)\n",
    "¬( ¬a ∧ ¬ b)\n",
    "a ∨ b\n",
    "\n",
    "\n",
    "### 5.9\n",
    "\n",
    "¬ (¬ a ∧ ¬ b)\n",
    "¬ (a ∨ b)\n",
    "¬ a ∧ ¬ b\n",
    "\n",
    "## 6"
   ]
  },
  {
   "cell_type": "markdown",
   "metadata": {},
   "source": [
    "### 5.6 tabela "
   ]
  },
  {
   "cell_type": "code",
   "execution_count": 9,
   "metadata": {},
   "outputs": [
    {
     "name": "stdout",
     "output_type": "stream",
     "text": [
      " a       b    NÃO a E b \n",
      "False  False   False\n",
      "False  True    True\n",
      "True   False   False\n",
      "True   True    False\n"
     ]
    }
   ],
   "source": [
    "print(\" a       b    NÃO a E b \") #cabeçalho\n",
    "a = False; b = False\n",
    "print(a,\"\",b,\" \",not a and b) #linha 1\n",
    "a = False; b = True\n",
    "print(a,\"\",b,\"  \",not a and b) #linha 2\n",
    "a = True; b = False\n",
    "print(a,\" \",b,\" \",not a and b) #linha 3\n",
    "a = True; b = True\n",
    "print(a,\" \",b,\"  \",not a and b) #linha 4"
   ]
  },
  {
   "cell_type": "markdown",
   "metadata": {},
   "source": [
    "### 5.7 tabela"
   ]
  },
  {
   "cell_type": "code",
   "execution_count": 8,
   "metadata": {},
   "outputs": [
    {
     "name": "stdout",
     "output_type": "stream",
     "text": [
      " a       b    a OU b \n",
      "False  False   False\n",
      "False  True    True\n",
      "True   False   True\n",
      "True   True    True\n"
     ]
    }
   ],
   "source": [
    "print(\" a       b    a OU b \") #cabeçalho\n",
    "a = False; b = False\n",
    "print(a,\"\",b,\" \", a or b) #linha 1\n",
    "a = False; b = True\n",
    "print(a,\"\",b,\"  \", a or b) #linha 2\n",
    "a = True; b = False\n",
    "print(a,\" \",b,\" \", a or b) #linha 3\n",
    "a = True; b = True\n",
    "print(a,\" \",b,\"  \", a or b) #linha 4"
   ]
  },
  {
   "cell_type": "markdown",
   "metadata": {},
   "source": [
    "### 5.8 tabela"
   ]
  },
  {
   "cell_type": "code",
   "execution_count": 7,
   "metadata": {},
   "outputs": [
    {
     "name": "stdout",
     "output_type": "stream",
     "text": [
      " a       b    a OU b \n",
      "False  False   False\n",
      "False  True    True\n",
      "True   False   True\n",
      "True   True    True\n"
     ]
    }
   ],
   "source": [
    "print(\" a       b    a OU b \") #cabeçalho\n",
    "a = False; b = False\n",
    "print(a,\"\",b,\" \", a or b) #linha 1\n",
    "a = False; b = True\n",
    "print(a,\"\",b,\"  \", a or b) #linha 2\n",
    "a = True; b = False\n",
    "print(a,\" \",b,\" \", a or b) #linha 3\n",
    "a = True; b = True\n",
    "print(a,\" \",b,\"  \", a or b) #linha 4"
   ]
  },
  {
   "cell_type": "markdown",
   "metadata": {},
   "source": [
    "### 5.9 tabela"
   ]
  },
  {
   "cell_type": "code",
   "execution_count": 10,
   "metadata": {},
   "outputs": [
    {
     "name": "stdout",
     "output_type": "stream",
     "text": [
      " a       b    NÃO a E b \n",
      "False  False   True\n",
      "False  True    False\n",
      "True   False   False\n",
      "True   True    False\n"
     ]
    }
   ],
   "source": [
    "print(\" a       b    NÃO a E NÃO b \") #cabeçalho\n",
    "a = False; b = False\n",
    "print(a,\"\",b,\" \",not a and not b) #linha 1\n",
    "a = False; b = True\n",
    "print(a,\"\",b,\"  \",not a and not b) #linha 2\n",
    "a = True; b = False\n",
    "print(a,\" \",b,\" \",not a and not b) #linha 3\n",
    "a = True; b = True\n",
    "print(a,\" \",b,\"  \",not a and not b) #linha 4"
   ]
  },
  {
   "cell_type": "markdown",
   "metadata": {},
   "source": [
    "## 7\n",
    "As expressões 5.7 e 5.8 são equivalentes"
   ]
  },
  {
   "cell_type": "markdown",
   "metadata": {},
   "source": [
    "## 8"
   ]
  },
  {
   "cell_type": "code",
   "execution_count": null,
   "metadata": {},
   "outputs": [],
   "source": []
  },
  {
   "cell_type": "code",
   "execution_count": null,
   "metadata": {},
   "outputs": [],
   "source": []
  }
 ],
 "metadata": {
  "kernelspec": {
   "display_name": "Python 3",
   "language": "python",
   "name": "python3"
  },
  "language_info": {
   "codemirror_mode": {
    "name": "ipython",
    "version": 3
   },
   "file_extension": ".py",
   "mimetype": "text/x-python",
   "name": "python",
   "nbconvert_exporter": "python",
   "pygments_lexer": "ipython3",
   "version": "3.7.3"
  }
 },
 "nbformat": 4,
 "nbformat_minor": 2
}
