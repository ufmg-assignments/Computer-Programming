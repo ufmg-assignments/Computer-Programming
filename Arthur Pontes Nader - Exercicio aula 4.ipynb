{
 "cells": [
  {
   "cell_type": "markdown",
   "metadata": {},
   "source": [
    "# Nome: Arthur Pontes Nader - 2019022294\n",
    "\n",
    "# Exercício - Aula 4\n",
    "\n",
    "## 1"
   ]
  },
  {
   "cell_type": "code",
   "execution_count": 20,
   "metadata": {},
   "outputs": [
    {
     "name": "stdout",
     "output_type": "stream",
     "text": [
      "Primeiro valor: 25\n",
      "Segundo valor: 25\n",
      "Os dois números são iguais\n"
     ]
    }
   ],
   "source": [
    "a = int(input(\"Primeiro valor: \"))\n",
    "b = int(input(\"Segundo valor: \"))\n",
    "if a > b:\n",
    "    print(\"O primeiro número é o maior\")\n",
    "if a < b:\n",
    "    print(\"O segundo número é o maior\")\n",
    "if a == b:\n",
    "    print(\"Os dois números são iguais\")"
   ]
  },
  {
   "cell_type": "markdown",
   "metadata": {},
   "source": [
    "## 2"
   ]
  },
  {
   "cell_type": "markdown",
   "metadata": {},
   "source": [
    "Salário: 1500 - imposto de 20% sobre (salário - 1000.00)\n",
    "\n",
    "Imposto: 0.20 x 500 = 100\n",
    "\n",
    "Salário: 3000 - imposto de 20% sobre (salário - 1000.00)\n",
    "\n",
    "Imposto: 0.20 x 2000 = 400\n",
    "\n",
    "Salário: 5000 - imposto de 20% sobre 2000 + 35% sobre (salário - 3000)\n",
    "\n",
    "Imposto: 0.20 x 2000 + 0.35 x 2000 = 400 + 700 = 1100"
   ]
  },
  {
   "cell_type": "markdown",
   "metadata": {},
   "source": [
    "## 3"
   ]
  },
  {
   "cell_type": "code",
   "execution_count": 21,
   "metadata": {},
   "outputs": [
    {
     "name": "stdout",
     "output_type": "stream",
     "text": [
      "Digite o salário para calcular o imposto: 1000.01\n",
      "O salário de R$1000.010 pagará R$ 0.0020 de impostos.\n"
     ]
    }
   ],
   "source": [
    "salário = float(input(\"Digite o salário para calcular o imposto: \"))\n",
    "base_de_cálculo = salário\n",
    "imposto = 0 # imposto é um acumulador aditivo\n",
    "if base_de_cálculo > 3000.00:\n",
    "    imposto = imposto + ((base_de_cálculo - 3000.00) * 0.35)\n",
    "    base_de_cálculo = 3000.00 \n",
    "if base_de_cálculo > 1000.00:\n",
    "    imposto = imposto + ((base_de_cálculo - 1000.00) * 0.20)\n",
    "    print(\"O salário de R$%7.3f pagará R$%7.4f de impostos.\" % (salário,imposto))\n",
    "if base_de_cálculo <= 1000.00: \n",
    "    print (\"O salário de R$%7.3f é isento de imposto de renda\" % (salário))"
   ]
  },
  {
   "cell_type": "markdown",
   "metadata": {},
   "source": [
    "## 4"
   ]
  },
  {
   "cell_type": "code",
   "execution_count": 22,
   "metadata": {},
   "outputs": [
    {
     "name": "stdout",
     "output_type": "stream",
     "text": [
      "Digite a categoria: 6\n",
      "Categoria inválida! Digite um valor entre 1 e 5!\n"
     ]
    }
   ],
   "source": [
    "categoria = int(input(\"Digite a categoria: \"))\n",
    "if categoria == 1:\n",
    "    preço = 10\n",
    "elif categoria == 2:\n",
    "    preço = 18\n",
    "elif categoria == 3:\n",
    "    preço = 23\n",
    "elif categoria == 4:\n",
    "    preço = 26\n",
    "elif categoria == 5:\n",
    "    preço = 31\n",
    "if categoria >= 1 and categoria <= 5:\n",
    "    print(\"O preço do produto é R$%6.2f\" % (preço)) \n",
    "elif categoria > 5 or categoria < 1:\n",
    "    print(\"Categoria inválida! Digite um valor entre 1 e 5!\")"
   ]
  },
  {
   "cell_type": "markdown",
   "metadata": {},
   "source": [
    "## 5"
   ]
  },
  {
   "cell_type": "code",
   "execution_count": 9,
   "metadata": {},
   "outputs": [
    {
     "name": "stdout",
     "output_type": "stream",
     "text": [
      "Primeiro número: 13\n",
      "Segundo número: 25\n",
      "Terceiro número: -2\n",
      " O terceiro número é o menor inteiro\n"
     ]
    }
   ],
   "source": [
    "x = int(input(\"Primeiro número: \"))\n",
    "y = int(input(\"Segundo número: \"))\n",
    "z = int(input(\"Terceiro número: \"))\n",
    "if y and z > x :\n",
    "    print(\" O primeiro número é o menor inteiro\")\n",
    "elif x and z > y:\n",
    "    print(\" O segundo número é o menor inteiro\")\n",
    "elif x and y > z:\n",
    "    print(\" O terceiro número é o menor inteiro\")"
   ]
  },
  {
   "cell_type": "markdown",
   "metadata": {},
   "source": [
    "## 6"
   ]
  },
  {
   "cell_type": "code",
   "execution_count": 21,
   "metadata": {},
   "outputs": [
    {
     "name": "stdout",
     "output_type": "stream",
     "text": [
      "Primeiro número: 19\n",
      "Segundo número: 2\n",
      "Terceiro número: 15\n",
      "O primeiro número é o maior ímpar\n"
     ]
    }
   ],
   "source": [
    "x = int(input(\"Primeiro número: \"))\n",
    "y = int(input(\"Segundo número: \"))\n",
    "z = int(input(\"Terceiro número: \"))\n",
    "if x%2 == 0 and y%2 == 0 and z%2 == 0:\n",
    "    print(\"Não há número ímpar\")\n",
    "elif x%2 == 1 and y%2 == 0 and z%2 == 0 or x%2 == 1 and y%2 == 1 and z%2 == 0 and x > y or x%2 == 1 and y%2 == 0 and z%2 == 1 and x > z or x%2 == 1 and y%2 == 1 and z%2 == 1 and x > y and x > z:\n",
    "    print(\"O primeiro número é o maior ímpar\")\n",
    "elif x%2 == 0 and y%2 == 1 and z%2 == 0 or x%2 == 1 and y%2 == 1 and z%2 == 0 and y > x or x%2 == 0 and y%2 == 1 and z%2 == 1 and y > z or x%2 == 1 and y%2 == 1 and z%2 == 1 and y > x and y > z:\n",
    "    print(\"O segundo número é o maior ímpar\")\n",
    "elif x%2 == 0 and y%2 == 0 and z%2 == 1 or x%2 == 1 and y%2 == 0 and z%2 == 1 and z > x or x%2 == 0 and y%2 == 1 and z%2 == 1 and z > y or x%2 == 1 and y%2 == 1 and z%2 == 1 and z > x and z > y:\n",
    "    print(\"O terceiro número é o maior ímpar\")\n",
    "elif x%2 == 1 and y%2 == 1 and z%2 == 1 and x == y == z:\n",
    "    print(\"Os três ímpares possuem mesmo valor \")   \n",
    "elif x%2 == 1 and y%2 == 1 and z%2 == 1 and x < z and z == y or x%2 == 0 and y%2 == 1 and z%2 == 1 and x < z and z == y:\n",
    "    print(\"O segundo e o terceiro número possuem maior valor ímpar\")   \n",
    "elif x%2 == 1 and y%2 == 1 and z%2 == 1 and y < z and x == z or x%2 == 1 and y%2 == 0 and z%2 == 1 and y < z and x == z:\n",
    "    print(\"O primeiro e o terceiro número possuem maior valor ímpar\")   \n",
    "elif x%2 == 1 and y%2 == 1 and z%2 == 1 and z < x and x == y or x%2 == 1 and y%2 == 1 and z%2 == 0 and z < x and x == y:\n",
    "    print(\"O primeiro e o segundo número possuem maior valor ímpar\")      "
   ]
  },
  {
   "cell_type": "markdown",
   "metadata": {},
   "source": [
    "## 7"
   ]
  },
  {
   "cell_type": "code",
   "execution_count": 13,
   "metadata": {},
   "outputs": [
    {
     "name": "stdout",
     "output_type": "stream",
     "text": [
      "Ano:2020\n",
      "O ano é bissexto\n"
     ]
    }
   ],
   "source": [
    "x = int(input(\"Ano:\"))\n",
    "if x%4 == 0:\n",
    "    print (\"O ano é bissexto\")\n",
    "elif x%4 != 0:          \n",
    "    print (\"O ano não é bissexto\")"
   ]
  },
  {
   "cell_type": "markdown",
   "metadata": {},
   "source": [
    "## 8"
   ]
  },
  {
   "cell_type": "code",
   "execution_count": 17,
   "metadata": {},
   "outputs": [
    {
     "name": "stdout",
     "output_type": "stream",
     "text": [
      "Valor de n:3.141592\n",
      "n não pertence a nenhum intervalo\n"
     ]
    }
   ],
   "source": [
    "n = float(input(\"Valor de n:\"))\n",
    "if n < -3:\n",
    "    print (\"n pertence ao intervalo -∞ < n ≤ −2\")\n",
    "elif -3 <= n <= -2:\n",
    "    print (\"n pertence a dois intervalos: -∞ < n ≤ −2 e −3 ≤ n < −1\") \n",
    "elif -2< n < -1:\n",
    "    print (\"n pertence ao intervalo −3 ≤ n < −1\")\n",
    "elif 0 < n <= 1:\n",
    "    print (\"n pertence ao intervalo 0 < n < 2\")\n",
    "elif 2 <= n <= 3:\n",
    "    print (\"n pertence ao intervalo 1 < n ≤ 3\")\n",
    "elif 1 < n < 2:\n",
    "    print (\"n pertence a dois intervalos: 0 < n < 2 e 1 < n ≤ 3\")\n",
    "elif 4 < n:\n",
    "    print (\"n pertence ao intervalo 4 ≤ n < ∞\")\n",
    "elif -1 <= n <= 0 or 3 < n < 4:\n",
    "    print (\"n não pertence a nenhum intervalo\")"
   ]
  }
 ],
 "metadata": {
  "kernelspec": {
   "display_name": "Python 3",
   "language": "python",
   "name": "python3"
  },
  "language_info": {
   "codemirror_mode": {
    "name": "ipython",
    "version": 3
   },
   "file_extension": ".py",
   "mimetype": "text/x-python",
   "name": "python",
   "nbconvert_exporter": "python",
   "pygments_lexer": "ipython3",
   "version": "3.7.3"
  }
 },
 "nbformat": 4,
 "nbformat_minor": 2
}
