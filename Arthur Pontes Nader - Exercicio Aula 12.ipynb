{
 "cells": [
  {
   "cell_type": "markdown",
   "metadata": {},
   "source": [
    "# Nome: Arthur Pontes Nader\n",
    "\n",
    "# Matricula: 2019022294\n",
    "\n",
    "# Exercicio - Aula 12"
   ]
  },
  {
   "cell_type": "markdown",
   "metadata": {},
   "source": [
    "## 1"
   ]
  },
  {
   "cell_type": "code",
   "execution_count": 243,
   "metadata": {},
   "outputs": [
    {
     "name": "stdout",
     "output_type": "stream",
     "text": [
      "[('s', 2), ('t', 1), ('r', 1), ('i', 1), ('n', 1), ('g', 1)]\n"
     ]
    }
   ],
   "source": [
    "def exercicio_12_1(string,numero_da_representacao):\n",
    "    letras = \"AEIOUaeiouBCDFGHJKLMNPQRSTVWXYZbcdfghjklmnpqrstvwxyz\"\n",
    "    l = []\n",
    "    for n in range (len(string)):\n",
    "        if string[n] in letras and string[n] not in l:\n",
    "            l.append(string[n])\n",
    "    if numero_da_representacao == 1:\n",
    "        c = []\n",
    "        for n in range (len(l)):\n",
    "            c.append(string.count(l[n]))\n",
    "        resultado = (l,c)\n",
    "    elif numero_da_representacao == 2:\n",
    "        resultado = []\n",
    "        for n in range (len(l)):\n",
    "            resultado.append(l[n])\n",
    "            resultado.append(string.count(l[n])) \n",
    "    elif numero_da_representacao == 3:\n",
    "        resultado = []\n",
    "        for n in range (len(l)):\n",
    "            resultado.append((l[n],string.count(l[n])))\n",
    "    else:\n",
    "        resultado = None\n",
    "    return resultado\n",
    "    \n",
    "    \n",
    "string = \"strings\"\n",
    "numero_da_representacao = 3\n",
    "print(exercicio_12_1(string,numero_da_representacao))\n",
    " "
   ]
  },
  {
   "cell_type": "markdown",
   "metadata": {},
   "source": [
    "## 2"
   ]
  },
  {
   "cell_type": "code",
   "execution_count": 173,
   "metadata": {},
   "outputs": [
    {
     "name": "stdout",
     "output_type": "stream",
     "text": [
      "(1, 6)\n"
     ]
    }
   ],
   "source": [
    "def exercicio_12_2(representacao):\n",
    "    V = \"AEIOUaeiou\"\n",
    "    C = \"BCDFGHJKLMNPQRSTVWXYZbcdfghjklmnpqrstvwxyz\"\n",
    "    v = 0\n",
    "    c = 0\n",
    "    if type(representacao[0]) == list:\n",
    "        for n in range (representacao[0]):\n",
    "            if representacao[0][n] in V:\n",
    "                v += int(representacao[1][n])\n",
    "            elif representacao[0][n] in C: \n",
    "                c += int(representacao[1][n])\n",
    "    elif type(representacao[0]) == tuple:\n",
    "        for n in range (len(representacao)):\n",
    "            if representacao[n][0] in V:\n",
    "                v += int(representacao[n][1])\n",
    "            elif representacao[n][0] in C:\n",
    "                c += int(representacao[n][1])\n",
    "    elif type(representacao[0]) == str:\n",
    "        for n in range (0,len(representacao),2):\n",
    "            if representacao[n] in V:\n",
    "                v += int(representacao[n+1])\n",
    "            elif representacao[n] in C:\n",
    "                c += int(representacao[n+1])\n",
    "    return v, c\n",
    "    \n",
    "    \n",
    "representacao = ['s', 2, 't', 1, 'r', 1, 'i', 1, 'n', 1, 'g', 1]\n",
    "print(exercicio_12_2(representacao))\n",
    " "
   ]
  },
  {
   "cell_type": "markdown",
   "metadata": {},
   "source": [
    "## 3"
   ]
  },
  {
   "cell_type": "markdown",
   "metadata": {},
   "source": [
    "### 3.1"
   ]
  },
  {
   "cell_type": "code",
   "execution_count": 15,
   "metadata": {},
   "outputs": [
    {
     "name": "stdout",
     "output_type": "stream",
     "text": [
      "([('i', 1)], [('s', 2), ('t', 1), ('r', 1), ('n', 1), ('g', 1)])\n"
     ]
    }
   ],
   "source": [
    "def exercicio_12_3_1(representacao):\n",
    "    V = \"AEIOUaeiou\"\n",
    "    C = \"BCDFGHJKLMNPQRSTVWXYZbcdfghjklmnpqrstvwxyz\"\n",
    "    v = 0\n",
    "    c = 0\n",
    "    vogais = []\n",
    "    consoantes = []\n",
    "    if type(representacao[0]) == list:\n",
    "        for n in range (representacao[0]):\n",
    "            if representacao[0][n] in V:\n",
    "                vogais.append((representacao[0][n],representacao[1][n]))\n",
    "            elif representacao[0][n] in C: \n",
    "                consoantes.append((representacao[0][n],representacao[1][n]))\n",
    "    elif type(representacao[0]) == tuple:\n",
    "        for n in range (len(representacao)):\n",
    "            if representacao[n][0] in V:\n",
    "                vogais.append(representacao[n])\n",
    "            elif representacao[n][0] in C:\n",
    "                consoantes.append(representacao[n])\n",
    "    elif type(representacao[0]) == str:\n",
    "        for n in range (0,len(representacao),2):\n",
    "            if representacao[n] in V:\n",
    "                vogais.append((representacao[n],representacao[n+1]))\n",
    "            elif representacao[n] in C:\n",
    "                consoantes.append((representacao[n],representacao[n+1]))\n",
    "    return vogais, consoantes\n",
    "    \n",
    "    \n",
    "representacao = ['s', 2, 't', 1, 'r', 1, 'i', 1, 'n', 1, 'g', 1]\n",
    "print(exercicio_12_3_1(representacao))\n",
    " "
   ]
  },
  {
   "cell_type": "markdown",
   "metadata": {},
   "source": [
    "### 3.2"
   ]
  },
  {
   "cell_type": "code",
   "execution_count": 17,
   "metadata": {},
   "outputs": [
    {
     "name": "stdout",
     "output_type": "stream",
     "text": [
      "2\n"
     ]
    }
   ],
   "source": [
    "def exercicio_12_3_2(representacao,letra):\n",
    "    if type(representacao[0]) == list:\n",
    "        for n in range (representacao[0]):\n",
    "            if letra == represetacao[0][n]:\n",
    "                resultado = represetacao[1][n]\n",
    "    elif type(representacao[0]) == tuple:\n",
    "        for n in range (len(representacao)):\n",
    "            if letra == representacao[n][0]:\n",
    "                resultado = representacao[n][1]\n",
    "    elif type(representacao[0]) == str:\n",
    "        for n in range (0,len(representacao),2):\n",
    "            if letra == representacao[n]:\n",
    "                resultado = representacao[n+1]\n",
    "    else:\n",
    "        resultado = None\n",
    "    return resultado\n",
    "    \n",
    "\n",
    "letra = \"s\"\n",
    "representacao = ['s', 2, 't', 1, 'r', 1, 'i', 1, 'n', 1, 'g', 1]\n",
    "print(exercicio_12_3_2(representacao,letra))"
   ]
  },
  {
   "cell_type": "markdown",
   "metadata": {},
   "source": [
    "### 3.3"
   ]
  },
  {
   "cell_type": "code",
   "execution_count": 242,
   "metadata": {},
   "outputs": [
    {
     "name": "stdout",
     "output_type": "stream",
     "text": [
      "['s', 2, 't', 1, 'r', 1, 'i', 1, 'n', 1, 'g', 1]\n"
     ]
    }
   ],
   "source": [
    "def exercicio_12_3_3(representacao,letra,codigo):\n",
    "    if type(representacao[0]) == list:\n",
    "        for n in range (len(representacao[0])):\n",
    "            if letra == representacao[0][n-1]:\n",
    "                if codigo == 0:\n",
    "                    representacao[1][n-1] = 0\n",
    "                elif codigo == -1:\n",
    "                    del representacao[0][n-1]\n",
    "                    del representacao[1][n-1]\n",
    "    elif type(representacao[0]) == tuple:\n",
    "        for n in range (1,len(representacao)):\n",
    "            if letra == representacao[n-1][0]:\n",
    "                if codigo == 0:\n",
    "                    r = list(representacao[n-1])\n",
    "                    r[1] = 0\n",
    "                    t = tuple(r)\n",
    "                    del representacao[n-1]\n",
    "                    representacao.insert(n-1,t)\n",
    "                elif codigo == -1:\n",
    "                    del representacao[n-1]\n",
    "    elif type(representacao[0]) == str:\n",
    "        for n in range (1,len(representacao),2):\n",
    "            if letra == representacao[n-1]:\n",
    "                if codigo == 0:\n",
    "                    representacao[n] = 0\n",
    "                elif codigo == -1:\n",
    "                    del representacao[n-1]\n",
    "                    del representacao[n-1]\n",
    "                    break\n",
    "                else:\n",
    "                    representacao = None\n",
    "    else:\n",
    "        representacao = None\n",
    "    return representacao\n",
    "    \n",
    "\n",
    "letra = \"f\"\n",
    "representacao = ['s', 2, 't', 1, 'r', 1, 'i', 1, 'n', 1, 'g', 1]\n",
    "codigo = -1\n",
    "print(exercicio_12_3_3(representacao,letra,codigo))"
   ]
  },
  {
   "cell_type": "markdown",
   "metadata": {},
   "source": [
    "### 3.4"
   ]
  },
  {
   "cell_type": "code",
   "execution_count": null,
   "metadata": {},
   "outputs": [],
   "source": []
  },
  {
   "cell_type": "markdown",
   "metadata": {},
   "source": [
    "### 3.5"
   ]
  },
  {
   "cell_type": "code",
   "execution_count": 246,
   "metadata": {},
   "outputs": [
    {
     "name": "stdout",
     "output_type": "stream",
     "text": [
      "[('s', 4), ('t', 1), ('r', 2), ('i', 1), ('n', 1), ('g', 3), ('e', 0), ('f', 0)]\n"
     ]
    }
   ],
   "source": [
    "def exercicio_12_3_5(representacao,letras):\n",
    "    l = []\n",
    "    for n in range (len(letras)):\n",
    "        if letras[n] not in l:\n",
    "            l.append(letras[n])\n",
    "    if type(representacao[0]) == list:\n",
    "        for n in range (len(l)):\n",
    "            if l[n] in representacao[0]:\n",
    "                representacao[1][representacao[0].index(l[n])] += letras.count(l[n])\n",
    "            else:\n",
    "                representacao[0].append(l[n])\n",
    "                representacao[1].append(0)\n",
    "    elif type(representacao[0]) == tuple:\n",
    "        auxiliar = []\n",
    "        for k in range (len(representacao)):\n",
    "            auxiliar.append(representacao[k][0])\n",
    "            auxiliar.append(representacao[k][1])\n",
    "        for n in range (len(l)):\n",
    "            if l[n] in auxiliar:\n",
    "                auxiliar[auxiliar.index(l[n]) + 1] += letras.count(l[n])\n",
    "            else:\n",
    "                auxiliar.append(l[n])\n",
    "                auxiliar.append(0)\n",
    "        representacao.clear()\n",
    "        for n in range (0,len(auxiliar),2):\n",
    "            representacao.append((auxiliar[n],auxiliar[n+1]))\n",
    "    elif type(representacao[0]) == str:\n",
    "        for n in range (len(l)):\n",
    "            if l[n] in representacao:\n",
    "                representacao[representacao.index(l[n]) + 1] += letras.count(l[n])\n",
    "            else:\n",
    "                representacao.append(l[n])\n",
    "                representacao.append(0)\n",
    "    return representacao\n",
    "\n",
    "representacao = [('s', 2), ('t', 1), ('r', 1), ('i', 1), ('n', 1), ('g', 1)]\n",
    "letras = [\"s\",\"g\",\"s\",\"e\",\"g\",\"r\",\"f\",\"e\"]\n",
    "print(exercicio_12_3_5(representacao,letras))"
   ]
  },
  {
   "cell_type": "markdown",
   "metadata": {},
   "source": [
    "### 3.6"
   ]
  },
  {
   "cell_type": "code",
   "execution_count": 245,
   "metadata": {},
   "outputs": [
    {
     "name": "stdout",
     "output_type": "stream",
     "text": [
      "None\n"
     ]
    }
   ],
   "source": [
    "def exercicio_12_3_6(representacao,letras):\n",
    "    l = []\n",
    "    for n in range (len(letras)):\n",
    "        if letras[n] not in l:\n",
    "            l.append(letras[n])\n",
    "    if type(representacao[0]) == list:\n",
    "        for n in range (len(l)):\n",
    "            if l[n] in representacao[0]:\n",
    "                representacao[1][representacao[0].index(l[n])] += letras.count(l[n])\n",
    "            else:\n",
    "                representacao = None\n",
    "                break\n",
    "    elif type(representacao[0]) == tuple:\n",
    "        auxiliar = []\n",
    "        for k in range (len(representacao)):\n",
    "            auxiliar.append(representacao[k][0])\n",
    "            auxiliar.append(representacao[k][1])\n",
    "        representacao.clear()\n",
    "        for n in range (len(l)):\n",
    "            if l[n] in auxiliar:\n",
    "                auxiliar[auxiliar.index(l[n]) + 1] += letras.count(l[n])\n",
    "            else:\n",
    "                representacao = None\n",
    "                break\n",
    "        if representacao != None:\n",
    "            for n in range (0,len(auxiliar),2):\n",
    "                representacao.append((auxiliar[n],auxiliar[n+1]))\n",
    "    elif type(representacao[0]) == str:\n",
    "        for n in range (len(l)):\n",
    "            if l[n] in representacao:\n",
    "                representacao[representacao.index(l[n]) + 1] += letras.count(l[n])\n",
    "            else:\n",
    "                representacao = None\n",
    "                break\n",
    "    return representacao\n",
    "\n",
    "representacao = [('s', 2), ('t', 1), ('r', 1), ('i', 1), ('n', 1), ('g', 1)]\n",
    "letras = [\"s\",\"g\",\"s\",\"q\",\"g\",]\n",
    "print(exercicio_12_3_6(representacao,letras))"
   ]
  },
  {
   "cell_type": "markdown",
   "metadata": {},
   "source": [
    "## 4"
   ]
  },
  {
   "cell_type": "markdown",
   "metadata": {},
   "source": [
    "### 4.1"
   ]
  },
  {
   "cell_type": "code",
   "execution_count": 35,
   "metadata": {},
   "outputs": [
    {
     "name": "stdout",
     "output_type": "stream",
     "text": [
      "{'s': 2, 't': 1, 'r': 1, 'i': 1, 'n': 1, 'g': 1}\n"
     ]
    }
   ],
   "source": [
    "def exercicio_12_4_1(string):\n",
    "    letras = \"AEIOUaeiouBCDFGHJKLMNPQRSTVWXYZbcdfghjklmnpqrstvwxyz\"\n",
    "    l = []\n",
    "    dicionario = dict()\n",
    "    for n in range (len(string)):\n",
    "        if string[n] in letras and string[n] not in l:\n",
    "            l.append(string[n])\n",
    "    for n in range (len(l)):\n",
    "        dicionario[l[n]] = string.count(l[n])\n",
    "    return dicionario\n",
    "    \n",
    "string = \"strings\"\n",
    "print(exercicio_12_4_1(string))"
   ]
  },
  {
   "cell_type": "markdown",
   "metadata": {},
   "source": [
    "### 4.2"
   ]
  },
  {
   "cell_type": "code",
   "execution_count": 10,
   "metadata": {},
   "outputs": [
    {
     "name": "stdout",
     "output_type": "stream",
     "text": [
      "2\n"
     ]
    }
   ],
   "source": [
    "def exercicio_12_4_2(dicionario,letra):\n",
    "    contagem = dicionario.get(letra, None)\n",
    "    return contagem\n",
    "    \n",
    "dicionario = {'s': 2, 't': 1, 'r': 1, 'i': 1, 'n': 1, 'g': 1}\n",
    "letra = \"s\"\n",
    "print(exercicio_12_4_2(dicionario,letra))"
   ]
  },
  {
   "cell_type": "markdown",
   "metadata": {},
   "source": [
    "### 4.3"
   ]
  },
  {
   "cell_type": "code",
   "execution_count": 50,
   "metadata": {},
   "outputs": [
    {
     "name": "stdout",
     "output_type": "stream",
     "text": [
      "{'s': 0, 't': 1, 'r': 1, 'i': 1, 'n': 1, 'g': 1}\n"
     ]
    }
   ],
   "source": [
    "def exercicio_12_4_3(dicionario,letra,codigo):\n",
    "    if letra in dicionario:\n",
    "        if codigo == 0:\n",
    "            dicionario[letra] = 0\n",
    "        elif codigo == -1:\n",
    "            del dicionario[letra]\n",
    "        else:\n",
    "            dicionario = None\n",
    "    else:\n",
    "        dicionario = None\n",
    "    return dicionario\n",
    "    \n",
    "dicionario = {'s': 2,'t': 1, 'r': 1, 'i': 1, 'n': 1, 'g': 1}\n",
    "letra = \"s\"\n",
    "codigo = 0\n",
    "print(exercicio_12_4_3(dicionario,letra,codigo))"
   ]
  },
  {
   "cell_type": "markdown",
   "metadata": {},
   "source": [
    "### 4.4"
   ]
  },
  {
   "cell_type": "code",
   "execution_count": null,
   "metadata": {},
   "outputs": [],
   "source": []
  },
  {
   "cell_type": "markdown",
   "metadata": {},
   "source": [
    "### 4.5"
   ]
  },
  {
   "cell_type": "code",
   "execution_count": 208,
   "metadata": {},
   "outputs": [
    {
     "name": "stdout",
     "output_type": "stream",
     "text": [
      "{'s': 5, 't': 2, 'r': 1, 'i': 1, 'n': 1, 'g': 1, 'a': 0, 'f': 0}\n"
     ]
    }
   ],
   "source": [
    "def exercicio_12_4_5(dicionario,letras):\n",
    "    l = []\n",
    "    for n in range (len(letras)):\n",
    "        if letras[n] not in l:\n",
    "            l.append(letras[n])\n",
    "    for n in range (len(l)):\n",
    "        if l[n] in dicionario:\n",
    "            dicionario[l[n]] += letras.count(l[n])\n",
    "        else:\n",
    "            dicionario[l[n]] = 0\n",
    "    return dicionario\n",
    "    \n",
    "dicionario = {'s': 2, 't': 1, 'r': 1, 'i': 1, 'n': 1, 'g': 1}\n",
    "letras = [\"s\",\"s\",\"s\",\"a\",\"t\",\"f\"]\n",
    "print(exercicio_12_4_5(dicionario,letras))"
   ]
  },
  {
   "cell_type": "markdown",
   "metadata": {},
   "source": [
    "### 4.6"
   ]
  },
  {
   "cell_type": "code",
   "execution_count": 210,
   "metadata": {},
   "outputs": [
    {
     "name": "stdout",
     "output_type": "stream",
     "text": [
      "None\n"
     ]
    }
   ],
   "source": [
    "def exercicio_12_4_6(dicionario,letras):\n",
    "    l = []\n",
    "    for n in range (len(letras)):\n",
    "        if letras[n] not in l:\n",
    "            l.append(letras[n])\n",
    "    for n in range (len(l)):\n",
    "        if l[n] in dicionario:\n",
    "            dicionario[l[n]] += letras.count(l[n])\n",
    "        else:\n",
    "            dicionario = None\n",
    "            break\n",
    "    return dicionario\n",
    "    \n",
    "dicionario = {'s': 2, 't': 1, 'r': 1, 'i': 1, 'n': 1, 'g': 1}\n",
    "letras = [\"s\",\"s\",\"s\",\"a\",\"t\",\"f\"]\n",
    "print(exercicio_12_4_6(dicionario,letras))"
   ]
  },
  {
   "cell_type": "markdown",
   "metadata": {},
   "source": [
    "## 5 - Gerador da agenda"
   ]
  },
  {
   "cell_type": "code",
   "execution_count": 251,
   "metadata": {},
   "outputs": [
    {
     "name": "stdout",
     "output_type": "stream",
     "text": [
      "\n",
      "\n",
      "{'LMNOp': ['654321097', '543210678', '210987345', '987601234'], 'KLMNo': ['109872345', '324567890'], 'Abcde': ['210987634', '012345678'], 'UVWXy': ['432109567', '987650123'], 'BCDef': ['098765431', '109872345', '098765431', '210987345'], 'ZABcd': ['876901234', '543210967', '546789012', '678901234'], 'UVWXY': ['543678901', '765489012'], 'ZABCd': ['876543290'], 'EFghi': ['091234567', '324567890', '109234567', '768901234'], 'IJKLM': ['543678901', '543216789'], 'HIJKL': ['432109567', '987654012', '543210986'], 'OPQRs': ['098765431'], 'XYZab': ['654378901'], 'FGHIJ': ['654378901', '210987345'], 'Pqrst': ['987654320', '098761234', '765432189'], 'ABCde': ['987654301', '987654012', '210987345', '098761234'], 'edcbA': ['987654321'], 'fedcB': ['098765432', '109876543'], 'gfedC': ['210987654', '321098765', '432109876'], 'hgfeD': ['543210987', '654321098', '987654321', '098765432'], 'ihgfE': ['765432109'], 'jihgF': ['876543210', '987654312'], 'kjihG': ['098765423', '109876534', '210987645'], 'lkjiH': ['321098756', '432109867', '543210978', '654321089'], 'mlkjI': ['765432190'], 'nmlkJ': ['876543201', '987654321']}\n"
     ]
    }
   ],
   "source": [
    "nome = \"abcdefghijklmnopqrstuvwxyzabcd\"\n",
    "\n",
    "nomes = []\n",
    "for p in range (1,6):\n",
    "    for n in range (26):\n",
    "        a = nome[n:n+5]\n",
    "        a = a.replace(a[0:p],a[0:p].upper())\n",
    "        nomes.append(a)\n",
    "        \n",
    "numero = \"123456789012345678\"\n",
    "\n",
    "numeros = []\n",
    "for n in range (10):\n",
    "    j = numero[n:n+9]\n",
    "    numeros.append(j)\n",
    "numeros2 = tuple(numeros)\n",
    "print(\"\\n\")\n",
    "for k in range (2,9):\n",
    "    for n in numeros2:\n",
    "        i = n\n",
    "        o = list(n[0:k])\n",
    "        o.reverse()\n",
    "        o = \"\".join(o)\n",
    "        i = i.replace(i[0:k],o)\n",
    "        numeros.append(i)\n",
    "        \n",
    "agenda = dict()\n",
    "import random\n",
    "\n",
    "nomes2 = []\n",
    "for c in range (0,16):\n",
    "    while True:\n",
    "        a = nomes[random.randint(0,len(nomes)-1)]\n",
    "        if a not in nomes2:\n",
    "            nomes2.append(a)\n",
    "        else:\n",
    "            continue\n",
    "        break\n",
    "        \n",
    "numeros2 = []\n",
    "for k in range (0,16):\n",
    "    l = []\n",
    "    for g in range (random.randint(1,4)):\n",
    "        l.append(numeros[random.randint(0,len(numeros)-1)])\n",
    "    numeros2.append(l)\n",
    "\n",
    "for n in range(len(nomes2)):\n",
    "    agenda[nomes2[n]] = numeros2[n]\n",
    "    \n",
    "\n",
    "verificacao = []\n",
    "for n in range (0,10):\n",
    "    l = list(nomes[n])\n",
    "    l.reverse()\n",
    "    p = \"\".join(l)\n",
    "    verificacao.append(p)\n",
    "\n",
    "agenda[verificacao[0]] = [\"987654321\"]\n",
    "agenda[verificacao[1]] = [\"098765432\", \"109876543\"]\n",
    "agenda[verificacao[2]] = [\"210987654\", \"321098765\", \"432109876\"]\n",
    "agenda[verificacao[3]] = [\"543210987\", \"654321098\", \"987654321\", \"098765432\"]\n",
    "agenda[verificacao[4]] = [\"765432109\"]\n",
    "agenda[verificacao[5]] = [\"876543210\", \"987654312\"]\n",
    "agenda[verificacao[6]] = [\"098765423\", \"109876534\", \"210987645\"]\n",
    "agenda[verificacao[7]] = [\"321098756\", \"432109867\", \"543210978\", \"654321089\"]\n",
    "agenda[verificacao[8]] = [\"765432190\"]\n",
    "agenda[verificacao[9]] = [\"876543201\", \"987654321\"]\n",
    "        \n",
    "print(agenda)        "
   ]
  },
  {
   "cell_type": "markdown",
   "metadata": {},
   "source": [
    "### 5.1"
   ]
  },
  {
   "cell_type": "code",
   "execution_count": 262,
   "metadata": {},
   "outputs": [
    {
     "name": "stdout",
     "output_type": "stream",
     "text": [
      "{'LMNOp': ['654321097', '543210678', '210987345', '987601234'], 'KLMNo': ['109872345', '324567890'], 'Abcde': ['210987634', '012345678'], 'UVWXy': ['432109567', '987650123'], 'BCDef': ['098765431', '109872345', '098765431', '210987345'], 'ZABcd': ['876901234', '543210967', '546789012', '678901234'], 'UVWXY': ['543678901', '765489012'], 'ZABCd': ['876543290'], 'EFghi': ['091234567', '324567890', '109234567', '768901234'], 'IJKLM': ['543678901', '543216789'], 'HIJKL': ['432109567', '987654012', '543210986'], 'OPQRs': ['098765431'], 'XYZab': ['654378901'], 'FGHIJ': ['654378901', '210987345'], 'Pqrst': ['987654320', '098761234', '765432189'], 'ABCde': ['987654301', '987654012', '210987345', '098761234'], 'edcbA': ['987654321'], 'fedcB': ['098765432', '109876543'], 'gfedC': ['210987654', '321098765', '432109876'], 'hgfeD': ['543210987', '654321098', '987654321', '098765432'], 'ihgfE': ['765432109'], 'jihgF': ['876543210', '987654312'], 'kjihG': ['098765423', '109876534', '210987645'], 'lkjiH': ['321098756', '432109867', '543210978', '654321089'], 'mlkjI': ['765432190'], 'nmlkJ': ['876543201', '987654321'], 'Arthur': ['999999999']}\n"
     ]
    }
   ],
   "source": [
    "def exercicio_12_5_1(agenda,nome,numero):\n",
    "    if nome == \"\" or numero == \"\": \n",
    "        resultado = agenda\n",
    "    else:\n",
    "        agenda[nome] = [numero]\n",
    "        resultado = agenda\n",
    "    return resultado\n",
    "\n",
    "agenda = {'LMNOp': ['654321097', '543210678', '210987345', '987601234'], 'KLMNo': ['109872345', '324567890'], 'Abcde': ['210987634', '012345678'], 'UVWXy': ['432109567', '987650123'], 'BCDef': ['098765431', '109872345', '098765431', '210987345'], 'ZABcd': ['876901234', '543210967', '546789012', '678901234'], 'UVWXY': ['543678901', '765489012'], 'ZABCd': ['876543290'], 'EFghi': ['091234567', '324567890', '109234567', '768901234'], 'IJKLM': ['543678901', '543216789'], 'HIJKL': ['432109567', '987654012', '543210986'], 'OPQRs': ['098765431'], 'XYZab': ['654378901'], 'FGHIJ': ['654378901', '210987345'], 'Pqrst': ['987654320', '098761234', '765432189'], 'ABCde': ['987654301', '987654012', '210987345', '098761234'], 'edcbA': ['987654321'], 'fedcB': ['098765432', '109876543'], 'gfedC': ['210987654', '321098765', '432109876'], 'hgfeD': ['543210987', '654321098', '987654321', '098765432'], 'ihgfE': ['765432109'], 'jihgF': ['876543210', '987654312'], 'kjihG': ['098765423', '109876534', '210987645'], 'lkjiH': ['321098756', '432109867', '543210978', '654321089'], 'mlkjI': ['765432190'], 'nmlkJ': ['876543201', '987654321']}\n",
    "nome = \"Arthur\"\n",
    "numero = \"999999999\"\n",
    "print(exercicio_12_5_1(agenda,nome,numero))"
   ]
  },
  {
   "cell_type": "markdown",
   "metadata": {},
   "source": [
    "### 5.2"
   ]
  },
  {
   "cell_type": "code",
   "execution_count": null,
   "metadata": {},
   "outputs": [],
   "source": []
  },
  {
   "cell_type": "markdown",
   "metadata": {},
   "source": [
    "### 5.3"
   ]
  },
  {
   "cell_type": "code",
   "execution_count": null,
   "metadata": {},
   "outputs": [],
   "source": []
  },
  {
   "cell_type": "markdown",
   "metadata": {},
   "source": [
    "### 5.4"
   ]
  },
  {
   "cell_type": "code",
   "execution_count": 258,
   "metadata": {},
   "outputs": [
    {
     "name": "stdout",
     "output_type": "stream",
     "text": [
      "LMNOp: 654321097; 543210678; 210987345; 987601234; \n",
      "KLMNo: 109872345; 324567890; \n",
      "Abcde: 210987634; 012345678; \n",
      "UVWXy: 432109567; 987650123; \n",
      "BCDef: 098765431; 109872345; 098765431; 210987345; \n",
      "ZABcd: 876901234; 543210967; 546789012; 678901234; \n",
      "UVWXY: 543678901; 765489012; \n",
      "ZABCd: 876543290; \n",
      "EFghi: 091234567; 324567890; 109234567; 768901234; \n",
      "IJKLM: 543678901; 543216789; \n",
      "HIJKL: 432109567; 987654012; 543210986; \n",
      "OPQRs: 098765431; \n",
      "XYZab: 654378901; \n",
      "FGHIJ: 654378901; 210987345; \n",
      "Pqrst: 987654320; 098761234; 765432189; \n",
      "ABCde: 987654301; 987654012; 210987345; 098761234; \n",
      "edcbA: 987654321; \n",
      "fedcB: 098765432; 109876543; \n",
      "gfedC: 210987654; 321098765; 432109876; \n",
      "hgfeD: 543210987; 654321098; 987654321; 098765432; \n",
      "ihgfE: 765432109; \n",
      "jihgF: 876543210; 987654312; \n",
      "kjihG: 098765423; 109876534; 210987645; \n",
      "lkjiH: 321098756; 432109867; 543210978; 654321089; \n",
      "mlkjI: 765432190; \n",
      "nmlkJ: 876543201; 987654321; \n",
      "\n"
     ]
    }
   ],
   "source": [
    "def exercicio_12_5_4(agenda):\n",
    "    impressao = \"\"\n",
    "    for n in agenda:\n",
    "        impressao += f\"{n}: \"\n",
    "        for a in agenda[n]:\n",
    "            impressao += f\"{a}; \"\n",
    "        impressao += \"\\n\"\n",
    "    return impressao\n",
    "\n",
    "agenda = {'LMNOp': ['654321097', '543210678', '210987345', '987601234'], 'KLMNo': ['109872345', '324567890'], 'Abcde': ['210987634', '012345678'], 'UVWXy': ['432109567', '987650123'], 'BCDef': ['098765431', '109872345', '098765431', '210987345'], 'ZABcd': ['876901234', '543210967', '546789012', '678901234'], 'UVWXY': ['543678901', '765489012'], 'ZABCd': ['876543290'], 'EFghi': ['091234567', '324567890', '109234567', '768901234'], 'IJKLM': ['543678901', '543216789'], 'HIJKL': ['432109567', '987654012', '543210986'], 'OPQRs': ['098765431'], 'XYZab': ['654378901'], 'FGHIJ': ['654378901', '210987345'], 'Pqrst': ['987654320', '098761234', '765432189'], 'ABCde': ['987654301', '987654012', '210987345', '098761234'], 'edcbA': ['987654321'], 'fedcB': ['098765432', '109876543'], 'gfedC': ['210987654', '321098765', '432109876'], 'hgfeD': ['543210987', '654321098', '987654321', '098765432'], 'ihgfE': ['765432109'], 'jihgF': ['876543210', '987654312'], 'kjihG': ['098765423', '109876534', '210987645'], 'lkjiH': ['321098756', '432109867', '543210978', '654321089'], 'mlkjI': ['765432190'], 'nmlkJ': ['876543201', '987654321']}\n",
    "print(exercicio_12_5_4(agenda))"
   ]
  },
  {
   "cell_type": "markdown",
   "metadata": {},
   "source": [
    "### 5.5"
   ]
  },
  {
   "cell_type": "code",
   "execution_count": 260,
   "metadata": {},
   "outputs": [
    {
     "name": "stdout",
     "output_type": "stream",
     "text": [
      "210987634\n",
      "012345678\n",
      "\n"
     ]
    }
   ],
   "source": [
    "def exercicio_12_5_5(agenda,nome):\n",
    "    if nome in agenda:\n",
    "        impressao = \"\"\n",
    "        for a in agenda[nome]:\n",
    "            impressao += f\"{a}\\n\"\n",
    "    else:\n",
    "        impressao = None\n",
    "    return impressao\n",
    "\n",
    "agenda = {'LMNOp': ['654321097', '543210678', '210987345', '987601234'], 'KLMNo': ['109872345', '324567890'], 'Abcde': ['210987634', '012345678'], 'UVWXy': ['432109567', '987650123'], 'BCDef': ['098765431', '109872345', '098765431', '210987345'], 'ZABcd': ['876901234', '543210967', '546789012', '678901234'], 'UVWXY': ['543678901', '765489012'], 'ZABCd': ['876543290'], 'EFghi': ['091234567', '324567890', '109234567', '768901234'], 'IJKLM': ['543678901', '543216789'], 'HIJKL': ['432109567', '987654012', '543210986'], 'OPQRs': ['098765431'], 'XYZab': ['654378901'], 'FGHIJ': ['654378901', '210987345'], 'Pqrst': ['987654320', '098761234', '765432189'], 'ABCde': ['987654301', '987654012', '210987345', '098761234'], 'edcbA': ['987654321'], 'fedcB': ['098765432', '109876543'], 'gfedC': ['210987654', '321098765', '432109876'], 'hgfeD': ['543210987', '654321098', '987654321', '098765432'], 'ihgfE': ['765432109'], 'jihgF': ['876543210', '987654312'], 'kjihG': ['098765423', '109876534', '210987645'], 'lkjiH': ['321098756', '432109867', '543210978', '654321089'], 'mlkjI': ['765432190'], 'nmlkJ': ['876543201', '987654321']}\n",
    "nome = \"Abcde\"\n",
    "print(exercicio_12_5_5(agenda,nome))"
   ]
  },
  {
   "cell_type": "code",
   "execution_count": null,
   "metadata": {},
   "outputs": [],
   "source": []
  }
 ],
 "metadata": {
  "kernelspec": {
   "display_name": "Python 3",
   "language": "python",
   "name": "python3"
  },
  "language_info": {
   "codemirror_mode": {
    "name": "ipython",
    "version": 3
   },
   "file_extension": ".py",
   "mimetype": "text/x-python",
   "name": "python",
   "nbconvert_exporter": "python",
   "pygments_lexer": "ipython3",
   "version": "3.7.3"
  }
 },
 "nbformat": 4,
 "nbformat_minor": 2
}
