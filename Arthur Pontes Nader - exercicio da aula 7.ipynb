{
 "cells": [
  {
   "cell_type": "markdown",
   "metadata": {},
   "source": [
    "# Nome: Arthur Pontes Nader \n",
    "\n",
    "# Matricula: 2019022294\n",
    "\n",
    "# Exercicio - Aula 7"
   ]
  },
  {
   "cell_type": "markdown",
   "metadata": {},
   "source": [
    "## 1"
   ]
  },
  {
   "cell_type": "code",
   "execution_count": 23,
   "metadata": {},
   "outputs": [
    {
     "name": "stdout",
     "output_type": "stream",
     "text": [
      "0\n",
      "Quer continuar?  S\n",
      "1\n",
      "Quer continuar?  S\n",
      "2\n",
      "Quer continuar?  S\n",
      "3\n",
      "Quer continuar?  S\n",
      "4\n",
      "Quer continuar?  S\n",
      "5\n",
      "Quer continuar?  S\n",
      "0\n",
      "Quer continuar?  S\n",
      "1\n",
      "Quer continuar?  S\n",
      "2\n",
      "Quer continuar?  N\n",
      "Fim\n"
     ]
    }
   ],
   "source": [
    "def exercicio_1(n):\n",
    "    k = 0\n",
    "    print(k)\n",
    "    r = input(\"Quer continuar?  \")\n",
    "    while r != \"S\" and r != \"N\":\n",
    "        print(\"Voce deve entrar com S ou N\")\n",
    "        r = input(\"Quer continuar?  \")\n",
    "    while r != \"N\":\n",
    "        k += 1\n",
    "        if k == n:\n",
    "            k = 0\n",
    "        print(k)\n",
    "        r = input(\"Quer continuar?  \")\n",
    "        while r != \"S\" and r != \"N\":\n",
    "            print(\"Voce deve entrar com S ou N\")\n",
    "            r = input(\"Quer continuar?  \")\n",
    "    print (\"Fim\")\n",
    "    return\n",
    "                               \n",
    "n = 6\n",
    "exercicio_1(n)"
   ]
  },
  {
   "cell_type": "markdown",
   "metadata": {},
   "source": [
    "## 2"
   ]
  },
  {
   "cell_type": "markdown",
   "metadata": {},
   "source": [
    "### 2.1"
   ]
  },
  {
   "cell_type": "code",
   "execution_count": 24,
   "metadata": {},
   "outputs": [
    {
     "name": "stdout",
     "output_type": "stream",
     "text": [
      "Entre com um natural: 7\n",
      "O somatorio de cada termo de 0 ate 7 é 28.\n"
     ]
    },
    {
     "data": {
      "text/plain": [
       "28"
      ]
     },
     "execution_count": 24,
     "metadata": {},
     "output_type": "execute_result"
    }
   ],
   "source": [
    "def exercicio_2_1(n):     \n",
    "    soma = 0\n",
    "    while n > 0:\n",
    "        soma += n\n",
    "        n = n-1\n",
    "    return soma\n",
    "\n",
    "erro = True\n",
    "while erro:\n",
    "    try:\n",
    "        n = int(input(\"Entre com um natural: \"))\n",
    "        if n <0 :\n",
    "            print(\"Voce deve entrar com um numero natural\")\n",
    "            continue\n",
    "        erro = False\n",
    "    except ValueError:\n",
    "        print(\"Voce nao digitou um natural!\")\n",
    "\n",
    "print(\"O somatorio de cada termo de 0 ate %d é %d.\" %(n,exercicio_2_1(n)))\n",
    "\n",
    "exercicio_2_1(n)"
   ]
  },
  {
   "cell_type": "markdown",
   "metadata": {},
   "source": [
    "### 2.2"
   ]
  },
  {
   "cell_type": "code",
   "execution_count": 25,
   "metadata": {},
   "outputs": [
    {
     "name": "stdout",
     "output_type": "stream",
     "text": [
      "Entre com um natural: 8\n",
      "O somatorio de cada termo de 0 ate 8 é 36.\n"
     ]
    },
    {
     "data": {
      "text/plain": [
       "36"
      ]
     },
     "execution_count": 25,
     "metadata": {},
     "output_type": "execute_result"
    }
   ],
   "source": [
    "def exercicio_2_2(n):\n",
    "    soma = 0\n",
    "    for a in range (0,n+1):\n",
    "        soma += a\n",
    "    return soma\n",
    "\n",
    "erro = True\n",
    "while erro:\n",
    "    try:\n",
    "        n = int(input(\"Entre com um natural: \"))\n",
    "        if n <0 :\n",
    "            print(\"Voce deve entrar com um numero natural\")\n",
    "            continue\n",
    "        erro = False\n",
    "    except ValueError:\n",
    "        print(\"Voce nao digitou um natural!\")\n",
    "    \n",
    "print(\"O somatorio de cada termo de 0 ate %d é %d.\" %(n,exercicio_2_2(n)))\n",
    "\n",
    "exercicio_2_2(n)"
   ]
  },
  {
   "cell_type": "markdown",
   "metadata": {},
   "source": [
    "## 3"
   ]
  },
  {
   "cell_type": "markdown",
   "metadata": {},
   "source": [
    "### 3.1"
   ]
  },
  {
   "cell_type": "code",
   "execution_count": 26,
   "metadata": {},
   "outputs": [
    {
     "name": "stdout",
     "output_type": "stream",
     "text": [
      "Entre com um natural: 7\n",
      "O somatorio de cada termo par de 0 até 7 é 12.\n",
      "O somatorio de cada termo impar de 0 até 7 é 16.\n"
     ]
    },
    {
     "data": {
      "text/plain": [
       "(12, 16)"
      ]
     },
     "execution_count": 26,
     "metadata": {},
     "output_type": "execute_result"
    }
   ],
   "source": [
    "def exercicio_3_1(n):\n",
    "    soma_par = 0\n",
    "    soma_impar = 0\n",
    "    while n > 0:\n",
    "        if n%2 == 0:\n",
    "            soma_par += n\n",
    "            n = n-1\n",
    "        elif n%2 == 1:\n",
    "            soma_impar += n\n",
    "            n = n - 1\n",
    "    return (soma_par,soma_impar)\n",
    "    \n",
    "erro = True\n",
    "while erro:\n",
    "    try:\n",
    "        n = int(input(\"Entre com um natural: \"))\n",
    "        if n <0 :\n",
    "            print(\"Voce deve entrar com um numero natural\")\n",
    "            continue\n",
    "        erro = False\n",
    "    except ValueError:\n",
    "        print(\"Voce nao digitou um natural!\")\n",
    "\n",
    "print(\"O somatorio de cada termo par de 0 até %d é %d.\" %(n,exercicio_3_1(n)[0]))\n",
    "print(\"O somatorio de cada termo impar de 0 até %d é %d.\" %(n,exercicio_3_1(n)[1]))\n",
    "\n",
    "exercicio_3_1(n)"
   ]
  },
  {
   "cell_type": "markdown",
   "metadata": {},
   "source": [
    "### 3.2"
   ]
  },
  {
   "cell_type": "code",
   "execution_count": 27,
   "metadata": {},
   "outputs": [
    {
     "name": "stdout",
     "output_type": "stream",
     "text": [
      "Entre com um natural: 9\n",
      "O somatorio de cada termo par de 0 ate 9 é 20.\n",
      "O somatorio de cada termo impar de 0 ate 9 é 25.\n"
     ]
    },
    {
     "data": {
      "text/plain": [
       "(20, 25)"
      ]
     },
     "execution_count": 27,
     "metadata": {},
     "output_type": "execute_result"
    }
   ],
   "source": [
    "def exercicio_3_2(n):\n",
    "    soma_par = 0\n",
    "    soma_impar = 0\n",
    "    for s in range (1,n+1):\n",
    "        if s%2 == 0:\n",
    "            soma_par += s\n",
    "        elif s%2 == 1:\n",
    "            soma_impar += s\n",
    "    return (soma_par,soma_impar)  \n",
    "\n",
    "erro = True\n",
    "while erro:\n",
    "    try:\n",
    "        n = int(input(\"Entre com um natural: \"))\n",
    "        if n <0 :\n",
    "            print(\"Voce deve entrar com um numero natural\")\n",
    "            continue\n",
    "        erro = False\n",
    "    except ValueError:\n",
    "        print(\"Voce nao digitou um natural!\") \n",
    "\n",
    "print(\"O somatorio de cada termo par de 0 ate %d é %d.\" %(n,exercicio_3_2(n)[0]))\n",
    "print(\"O somatorio de cada termo impar de 0 ate %d é %d.\" %(n,exercicio_3_2(n)[1]))\n",
    "\n",
    "exercicio_3_2(n)"
   ]
  },
  {
   "cell_type": "markdown",
   "metadata": {},
   "source": [
    "### 4"
   ]
  },
  {
   "cell_type": "code",
   "execution_count": 28,
   "metadata": {},
   "outputs": [
    {
     "name": "stdout",
     "output_type": "stream",
     "text": [
      "Entre com um natural: 144\n"
     ]
    },
    {
     "data": {
      "text/plain": [
       "[1, 2, 3, 4, 6, 8, 9, 12, 16, 18, 24, 36, 48, 72, 144]"
      ]
     },
     "execution_count": 28,
     "metadata": {},
     "output_type": "execute_result"
    }
   ],
   "source": [
    "def exercicio_4(n):\n",
    "    list = []\n",
    "    for a in range(1,n+1):\n",
    "        if n%a == 0:\n",
    "            list.append(a)\n",
    "    return list\n",
    "    \n",
    "erro = True\n",
    "while erro:\n",
    "    try:\n",
    "        n = int(input(\"Entre com um natural: \"))\n",
    "        if n <=0 :\n",
    "            print(\"Voce deve entrar com um numero natural\")\n",
    "            continue\n",
    "        erro = False\n",
    "    except ValueError:\n",
    "        print(\"Voce nao digitou um natural!\")\n",
    "        \n",
    "exercicio_4(n)"
   ]
  },
  {
   "cell_type": "markdown",
   "metadata": {},
   "source": [
    "## 5"
   ]
  },
  {
   "cell_type": "code",
   "execution_count": 29,
   "metadata": {},
   "outputs": [
    {
     "data": {
      "text/plain": [
       "(172, 5)"
      ]
     },
     "execution_count": 29,
     "metadata": {},
     "output_type": "execute_result"
    }
   ],
   "source": [
    "def exercicio_5(t):\n",
    "    if len(t) == 0:\n",
    "        maior = menor = None\n",
    "    else:\n",
    "        menor = maior = t[0]\n",
    "        n = 0\n",
    "        while n != len(t)-1:\n",
    "            n += 1\n",
    "            if t[n] > maior:\n",
    "                maior = t[n]\n",
    "            elif t[n] < menor:\n",
    "                menor = t[n]\n",
    "    return (maior,menor)\n",
    "\n",
    "t =(62,12,5,172,27)\n",
    "exercicio_5(t)"
   ]
  },
  {
   "cell_type": "markdown",
   "metadata": {},
   "source": [
    "## 6"
   ]
  },
  {
   "cell_type": "markdown",
   "metadata": {},
   "source": [
    "### 6.1"
   ]
  },
  {
   "cell_type": "code",
   "execution_count": 30,
   "metadata": {},
   "outputs": [
    {
     "data": {
      "text/plain": [
       "95.5007946616706"
      ]
     },
     "execution_count": 30,
     "metadata": {},
     "output_type": "execute_result"
    }
   ],
   "source": [
    "def auxiliar_6_1(n):\n",
    "    resultado = 0\n",
    "    if n>0:\n",
    "        resultado = (2*n-1)/n + auxiliar_6_1(n-1)\n",
    "    return resultado\n",
    "def exercicio_6_1():\n",
    "    return auxiliar_6_1(50)\n",
    "\n",
    "exercicio_6_1()"
   ]
  },
  {
   "cell_type": "markdown",
   "metadata": {},
   "source": [
    "### 6.2"
   ]
  },
  {
   "cell_type": "code",
   "execution_count": 31,
   "metadata": {},
   "outputs": [
    {
     "data": {
      "text/plain": [
       "95.50079466167058"
      ]
     },
     "execution_count": 31,
     "metadata": {},
     "output_type": "execute_result"
    }
   ],
   "source": [
    "def exercicio_6_2():\n",
    "    n = 50\n",
    "    resultado = 0\n",
    "    while n > 0:\n",
    "        resultado += (2*n-1)/n\n",
    "        n = n - 1\n",
    "    return resultado\n",
    "\n",
    "exercicio_6_2()"
   ]
  },
  {
   "cell_type": "markdown",
   "metadata": {},
   "source": [
    "## 7"
   ]
  },
  {
   "cell_type": "markdown",
   "metadata": {},
   "source": [
    "### 7.1"
   ]
  },
  {
   "cell_type": "code",
   "execution_count": 32,
   "metadata": {},
   "outputs": [
    {
     "data": {
      "text/plain": [
       "194.81262248236044"
      ]
     },
     "execution_count": 32,
     "metadata": {},
     "output_type": "execute_result"
    }
   ],
   "source": [
    "def exercicio_7_1(n):\n",
    "    if n == 1:\n",
    "        soma = 1\n",
    "    elif n>1:\n",
    "        soma = (2*n-1)/n + exercicio_7_1(n-1)\n",
    "    return soma\n",
    "\n",
    "n = 100\n",
    "exercicio_7_1(n)"
   ]
  },
  {
   "cell_type": "markdown",
   "metadata": {},
   "source": [
    "### 7.2"
   ]
  },
  {
   "cell_type": "code",
   "execution_count": 33,
   "metadata": {},
   "outputs": [
    {
     "data": {
      "text/plain": [
       "194.8126224823604"
      ]
     },
     "execution_count": 33,
     "metadata": {},
     "output_type": "execute_result"
    }
   ],
   "source": [
    "def exercicio_7_2(n):\n",
    "    resultado = 0\n",
    "    while n > 0:\n",
    "        resultado += (2*n-1)/n\n",
    "        n = n - 1\n",
    "    return resultado\n",
    "\n",
    "n = 100\n",
    "exercicio_7_2(n)"
   ]
  },
  {
   "cell_type": "markdown",
   "metadata": {},
   "source": [
    "## 8"
   ]
  },
  {
   "cell_type": "markdown",
   "metadata": {},
   "source": [
    "### 8.1"
   ]
  },
  {
   "cell_type": "code",
   "execution_count": 35,
   "metadata": {},
   "outputs": [
    {
     "name": "stdout",
     "output_type": "stream",
     "text": [
      "Entre com o primeiro numero natural: 2\n",
      "Entre com o segundo numero natural: 9\n"
     ]
    },
    {
     "data": {
      "text/plain": [
       "[3, 4]"
      ]
     },
     "execution_count": 35,
     "metadata": {},
     "output_type": "execute_result"
    }
   ],
   "source": [
    "def exercicio_8_1(a,b):\n",
    "    continua = True\n",
    "    L = []\n",
    "    while a <= b and continua:\n",
    "        a += 1\n",
    "        if a == 4:\n",
    "             continua = False\n",
    "        L.append(a)\n",
    "    return L\n",
    "\n",
    "erro = True\n",
    "while erro:\n",
    "    try:\n",
    "        a = int(input(\"Entre com o primeiro numero natural: \"))\n",
    "        if a <=0 :\n",
    "            print(\"Voce deve entrar com um numero natural\")\n",
    "            continue\n",
    "        erro = False\n",
    "    except ValueError:\n",
    "        print(\"Voce nao digitou um natural!\")\n",
    "erro = True\n",
    "while erro:\n",
    "    try:\n",
    "        b = int(input(\"Entre com o segundo numero natural: \"))\n",
    "        if b <=0 :\n",
    "            print(\"Voce deve entrar com um numero natural\")\n",
    "            continue\n",
    "        erro = False\n",
    "    except ValueError:\n",
    "        print(\"Voce nao digitou um natural!\")\n",
    "\n",
    "exercicio_8_1(a,b)"
   ]
  },
  {
   "cell_type": "markdown",
   "metadata": {},
   "source": [
    "### 8.2"
   ]
  },
  {
   "cell_type": "code",
   "execution_count": 36,
   "metadata": {},
   "outputs": [
    {
     "name": "stdout",
     "output_type": "stream",
     "text": [
      "Entre com o primeiro numero natural: 2\n",
      "Entre com o segundo numero natural: 9\n"
     ]
    },
    {
     "data": {
      "text/plain": [
       "[3, 4]"
      ]
     },
     "execution_count": 36,
     "metadata": {},
     "output_type": "execute_result"
    }
   ],
   "source": [
    "def exercicio_8_2(a,b):\n",
    "    continua = True\n",
    "    L = []\n",
    "    while a <= b and continua:\n",
    "        a += 1\n",
    "        if a == 4:\n",
    "            continua = False\n",
    "            exercicio_8_2(a,b)\n",
    "        L.append(a)\n",
    "    return L\n",
    "\n",
    "erro = True\n",
    "while erro:\n",
    "    try:\n",
    "        a = int(input(\"Entre com o primeiro numero natural: \"))\n",
    "        if a <=0 :\n",
    "            print(\"Voce deve entrar com um numero natural\")\n",
    "            continue\n",
    "        erro = False\n",
    "    except ValueError:\n",
    "        print(\"Voce nao digitou um natural!\")\n",
    "erro = True\n",
    "while erro:\n",
    "    try:\n",
    "        b = int(input(\"Entre com o segundo numero natural: \"))\n",
    "        if b <=0 :\n",
    "            print(\"Voce deve entrar com um numero natural\")\n",
    "            continue\n",
    "        erro = False\n",
    "    except ValueError:\n",
    "        print(\"Voce nao digitou um natural!\")\n",
    "\n",
    "exercicio_8_2(a,b)"
   ]
  },
  {
   "cell_type": "markdown",
   "metadata": {},
   "source": [
    "### 8.3"
   ]
  },
  {
   "cell_type": "code",
   "execution_count": 37,
   "metadata": {},
   "outputs": [
    {
     "name": "stdout",
     "output_type": "stream",
     "text": [
      "Entre com o primeiro numero natural: 2\n",
      "Entre com o segundo numero natural: 9\n",
      "2\n",
      "4\n"
     ]
    },
    {
     "data": {
      "text/plain": [
       "[3, 4]"
      ]
     },
     "execution_count": 37,
     "metadata": {},
     "output_type": "execute_result"
    }
   ],
   "source": [
    "def exercicio_8_3(a,b):\n",
    "    print(a)\n",
    "    continua = True\n",
    "    L = []\n",
    "    while a <= b and continua:\n",
    "        a += 1\n",
    "        if a == 4:\n",
    "             continua = False\n",
    "        L.append(a)\n",
    "    print (a)\n",
    "    return L\n",
    "\n",
    "erro = True\n",
    "while erro:\n",
    "    try:\n",
    "        a = int(input(\"Entre com o primeiro numero natural: \"))\n",
    "        if a <=0 :\n",
    "            print(\"Voce deve entrar com um numero natural\")\n",
    "            continue\n",
    "        erro = False\n",
    "    except ValueError:\n",
    "        print(\"Voce nao digitou um natural!\")\n",
    "erro = True\n",
    "while erro:\n",
    "    try:\n",
    "        b = int(input(\"Entre com o segundo numero natural: \"))\n",
    "        if b <=0 :\n",
    "            print(\"Voce deve entrar com um numero natural\")\n",
    "            continue\n",
    "        erro = False\n",
    "    except ValueError:\n",
    "        print(\"Voce nao digitou um natural!\")\n",
    "\n",
    "exercicio_8_3(a,b)"
   ]
  }
 ],
 "metadata": {
  "kernelspec": {
   "display_name": "Python 3",
   "language": "python",
   "name": "python3"
  },
  "language_info": {
   "codemirror_mode": {
    "name": "ipython",
    "version": 3
   },
   "file_extension": ".py",
   "mimetype": "text/x-python",
   "name": "python",
   "nbconvert_exporter": "python",
   "pygments_lexer": "ipython3",
   "version": "3.7.3"
  }
 },
 "nbformat": 4,
 "nbformat_minor": 2
}
