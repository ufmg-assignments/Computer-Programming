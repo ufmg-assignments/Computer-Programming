{
 "cells": [
  {
   "cell_type": "markdown",
   "metadata": {},
   "source": [
    "# Nome: Arthur Pontes Nader          Matricula - 2019022294"
   ]
  },
  {
   "cell_type": "markdown",
   "metadata": {},
   "source": [
    "## 1"
   ]
  },
  {
   "cell_type": "markdown",
   "metadata": {},
   "source": [
    "### 1.1"
   ]
  },
  {
   "cell_type": "code",
   "execution_count": 3,
   "metadata": {},
   "outputs": [
    {
     "data": {
      "text/plain": [
       "720"
      ]
     },
     "execution_count": 3,
     "metadata": {},
     "output_type": "execute_result"
    }
   ],
   "source": [
    "i = 1\n",
    "def exercicio_1_1(n,i):\n",
    "    if n < 0:\n",
    "        resultado = 0\n",
    "    elif n == 0:\n",
    "        resultado = 1\n",
    "    elif n > 0:\n",
    "        if n > i:\n",
    "            resultado = i*exercicio_1_1(n,i+1)\n",
    "        if n == i:\n",
    "            resultado = i\n",
    "    return resultado\n",
    "n = 6\n",
    "exercicio_1_1(n,i)"
   ]
  },
  {
   "cell_type": "markdown",
   "metadata": {},
   "source": [
    "### 1.2"
   ]
  },
  {
   "cell_type": "code",
   "execution_count": 6,
   "metadata": {},
   "outputs": [
    {
     "data": {
      "text/plain": [
       "5040"
      ]
     },
     "execution_count": 6,
     "metadata": {},
     "output_type": "execute_result"
    }
   ],
   "source": [
    "def exercicio_1_2(n):\n",
    "    if n < 0:\n",
    "        resultado = 0\n",
    "    elif n == 0:\n",
    "        resultado = 1\n",
    "    elif n >= 0:\n",
    "        resultado = 1\n",
    "        fat = 2\n",
    "        while fat <= n:\n",
    "            resultado = resultado*fat\n",
    "            fat = fat + 1\n",
    "    return resultado\n",
    "exercicio_1_2(7)"
   ]
  },
  {
   "cell_type": "markdown",
   "metadata": {},
   "source": [
    "## 2"
   ]
  },
  {
   "cell_type": "code",
   "execution_count": 184,
   "metadata": {},
   "outputs": [
    {
     "data": {
      "text/plain": [
       "0.6929686410191319"
      ]
     },
     "execution_count": 184,
     "metadata": {},
     "output_type": "execute_result"
    }
   ],
   "source": [
    "def exercicio_2(n):\n",
    "    if n == 1:\n",
    "        resultado = 1\n",
    "    elif n%2 == 0:\n",
    "        resultado = -1/n + exercicio_2(n-1)\n",
    "    elif n%2 == 1:\n",
    "        resultado = 1/n + exercicio_2(n-1)\n",
    "    return resultado\n",
    "n = 1500\n",
    "exercicio_2(2800)"
   ]
  },
  {
   "cell_type": "markdown",
   "metadata": {},
   "source": [
    "## 3"
   ]
  },
  {
   "cell_type": "markdown",
   "metadata": {},
   "source": [
    "### 3.1"
   ]
  },
  {
   "cell_type": "markdown",
   "metadata": {},
   "source": [
    "#### 3.1.1"
   ]
  },
  {
   "cell_type": "code",
   "execution_count": 5,
   "metadata": {},
   "outputs": [
    {
     "data": {
      "text/plain": [
       "1.6180339395887897"
      ]
     },
     "execution_count": 5,
     "metadata": {},
     "output_type": "execute_result"
    }
   ],
   "source": [
    "def exercicio_3_1_1(n):\n",
    "    if n <= 0:\n",
    "        resultado = 0\n",
    "    elif n == 1:\n",
    "        resultado = 1\n",
    "    elif n > 1:\n",
    "        resultado = (1 + exercicio_3_1_1(n-1) )**(1/2)\n",
    "    return resultado\n",
    "\n",
    "exercicio_3_1_1(15)"
   ]
  },
  {
   "cell_type": "markdown",
   "metadata": {},
   "source": [
    "#### 3.1.2"
   ]
  },
  {
   "cell_type": "code",
   "execution_count": 122,
   "metadata": {},
   "outputs": [
    {
     "data": {
      "text/plain": [
       "1.6180285974702324"
      ]
     },
     "execution_count": 122,
     "metadata": {},
     "output_type": "execute_result"
    }
   ],
   "source": [
    "def exercicio_3_1_2(n):\n",
    "    if n <= 0:\n",
    "        aureo = 0\n",
    "    aureo = 1\n",
    "    while (n > 0):\n",
    "        aureo = (1 + aureo )**(1/2)\n",
    "        n = n - 1\n",
    "    return aureo\n",
    "exercicio_3_1_2(10)"
   ]
  },
  {
   "cell_type": "markdown",
   "metadata": {},
   "source": [
    "### 3.2"
   ]
  },
  {
   "cell_type": "markdown",
   "metadata": {},
   "source": [
    "#### 3.2.1"
   ]
  },
  {
   "cell_type": "code",
   "execution_count": 6,
   "metadata": {},
   "outputs": [
    {
     "data": {
      "text/plain": [
       "1.6180339886704433"
      ]
     },
     "execution_count": 6,
     "metadata": {},
     "output_type": "execute_result"
    }
   ],
   "source": [
    "def exercicio_3_2_1(n):\n",
    "    if n <= 0:\n",
    "        resultado = 0\n",
    "    elif (n == 1):\n",
    "        resultado = 1\n",
    "    else:\n",
    "        resultado = 1 + 1/exercicio_3_2_1(n-1)\n",
    "    return resultado\n",
    "\n",
    "exercicio_3_2_1(25)"
   ]
  },
  {
   "cell_type": "markdown",
   "metadata": {},
   "source": [
    "#### 3.2.2"
   ]
  },
  {
   "cell_type": "code",
   "execution_count": 133,
   "metadata": {},
   "outputs": [
    {
     "data": {
      "text/plain": [
       "1.618033988749895"
      ]
     },
     "execution_count": 133,
     "metadata": {},
     "output_type": "execute_result"
    }
   ],
   "source": [
    "def exercicio_3_2_2(n):\n",
    "    import math\n",
    "    aureo = math.inf\n",
    "    if n <= 0:\n",
    "        aureo = 0\n",
    "    while (n > 0):\n",
    "        aureo = 1 + 1/aureo\n",
    "        n = n - 1\n",
    "    return aureo\n",
    "exercicio_3_2_2(100)"
   ]
  },
  {
   "cell_type": "markdown",
   "metadata": {},
   "source": [
    "### 3.3"
   ]
  },
  {
   "cell_type": "markdown",
   "metadata": {},
   "source": [
    "#### 3.3.1"
   ]
  },
  {
   "cell_type": "code",
   "execution_count": 241,
   "metadata": {},
   "outputs": [
    {
     "data": {
      "text/plain": [
       "2.7182818284590455"
      ]
     },
     "execution_count": 241,
     "metadata": {},
     "output_type": "execute_result"
    }
   ],
   "source": [
    "def fatorial(n):\n",
    "    if n < 0:\n",
    "        resultado = 0\n",
    "    elif n == 0:\n",
    "        resultado = 1\n",
    "    elif n > 0:\n",
    "        reultado = 1\n",
    "        resultado = n*fatorial(n-1)\n",
    "    return resultado\n",
    "def exercicio_3_3_1(n):\n",
    "    if n < 0:\n",
    "        res = 0\n",
    "    elif n == 0:\n",
    "        res = 1\n",
    "    elif n == 1:\n",
    "        res = 2\n",
    "    else:\n",
    "        res = 1/fatorial(n) + exercicio_3_3_1(n-1)\n",
    "    return res \n",
    "exercicio_3_3_1(20)"
   ]
  },
  {
   "cell_type": "markdown",
   "metadata": {},
   "source": [
    "#### 3.3.2"
   ]
  },
  {
   "cell_type": "code",
   "execution_count": 125,
   "metadata": {},
   "outputs": [
    {
     "data": {
      "text/plain": [
       "2.7182818284590455"
      ]
     },
     "execution_count": 125,
     "metadata": {},
     "output_type": "execute_result"
    }
   ],
   "source": [
    "def fatorial(n):\n",
    "    if n < 0:\n",
    "        resultado = 0\n",
    "    elif n == 0:\n",
    "        resultado = 1\n",
    "    elif n >= 0:\n",
    "        resultado = 1\n",
    "        fat = 2\n",
    "        while fat <= n:\n",
    "            resultado = resultado*fat\n",
    "            fat = fat + 1\n",
    "    return resultado\n",
    "def exercicio_3_3_2(n):\n",
    "    if n <= 0:\n",
    "        e = 0\n",
    "    e = 1\n",
    "    while n > 0:\n",
    "        e = e + 1/fatorial(n)\n",
    "        n = n - 1\n",
    "    return e\n",
    "exercicio_3_3_2(21)"
   ]
  },
  {
   "cell_type": "markdown",
   "metadata": {},
   "source": [
    "### 3.4"
   ]
  },
  {
   "cell_type": "markdown",
   "metadata": {},
   "source": [
    "#### 3.4.1"
   ]
  },
  {
   "cell_type": "code",
   "execution_count": 240,
   "metadata": {},
   "outputs": [
    {
     "data": {
      "text/plain": [
       "7.389056098930649"
      ]
     },
     "execution_count": 240,
     "metadata": {},
     "output_type": "execute_result"
    }
   ],
   "source": [
    "def fatorial(n):\n",
    "    if n < 0:\n",
    "        resultado = 0\n",
    "    elif n == 0:\n",
    "        resultado = 1\n",
    "    elif n > 0:\n",
    "        reultado = 1\n",
    "        resultado = n*fatorial(n-1)\n",
    "    return resultado\n",
    "def exercicio_3_4_1(n,x):\n",
    "    if n < 0:\n",
    "        res = 0\n",
    "    elif n == 0:\n",
    "        res = 1\n",
    "    elif n == 1:\n",
    "        res = x + 1\n",
    "    else:\n",
    "        res = (x**n)/fatorial(n) + exercicio_3_4_1(n-1,x)\n",
    "    return res \n",
    "exercicio_3_4_1(40,2)\n"
   ]
  },
  {
   "cell_type": "markdown",
   "metadata": {},
   "source": [
    "#### 3.4.2"
   ]
  },
  {
   "cell_type": "code",
   "execution_count": 131,
   "metadata": {},
   "outputs": [
    {
     "data": {
      "text/plain": [
       "7.389056098930652"
      ]
     },
     "execution_count": 131,
     "metadata": {},
     "output_type": "execute_result"
    }
   ],
   "source": [
    "def fatorial(n):\n",
    "    if n < 0:\n",
    "        resultado = 0\n",
    "    elif n == 0:\n",
    "        resultado = 1\n",
    "    elif n >= 0:\n",
    "        resultado = 1\n",
    "        fat = 2\n",
    "        while fat <= n:\n",
    "            resultado = resultado*fat\n",
    "            fat = fat + 1\n",
    "    return resultado\n",
    "def exercicio_3_3_2(n,x):\n",
    "    if n <= 0:\n",
    "        e = 0\n",
    "    e = 1\n",
    "    while n > 0:\n",
    "        e = e + 1/fatorial(n)\n",
    "        n = n - 1\n",
    "    e = e**x\n",
    "    return e\n",
    "exercicio_3_3_2(21,2)"
   ]
  },
  {
   "cell_type": "markdown",
   "metadata": {},
   "source": [
    "### 3. 5"
   ]
  },
  {
   "cell_type": "markdown",
   "metadata": {},
   "source": [
    "#### 3.5.1"
   ]
  },
  {
   "cell_type": "code",
   "execution_count": 236,
   "metadata": {},
   "outputs": [
    {
     "data": {
      "text/plain": [
       "0.36787944117144245"
      ]
     },
     "execution_count": 236,
     "metadata": {},
     "output_type": "execute_result"
    }
   ],
   "source": [
    "def fatorial(n):\n",
    "    if n < 0:\n",
    "        resultado = 0\n",
    "    elif n == 0:\n",
    "        resultado = 1\n",
    "    elif n > 0:\n",
    "        reultado = 1\n",
    "        resultado = n*fatorial(n-1)\n",
    "    return resultado\n",
    "def exercicio_3_5_1(n):\n",
    "    if n < 0:\n",
    "        somatorio = 0\n",
    "    elif n == 0:\n",
    "        somatorio = 1\n",
    "    elif n == 1:\n",
    "        somatorio = 0\n",
    "    elif n%2 == 0:\n",
    "        somatorio = 1/fatorial(n) + exercicio_3_5_1(n-1)\n",
    "    elif n%2 == 1:\n",
    "        somatorio = -1/fatorial(n) + exercicio_3_5_1(n-1)\n",
    "    return somatorio\n",
    "exercicio_3_5_1(30)"
   ]
  },
  {
   "cell_type": "markdown",
   "metadata": {},
   "source": [
    "### 3.6"
   ]
  },
  {
   "cell_type": "markdown",
   "metadata": {},
   "source": [
    "#### 3.6.1"
   ]
  },
  {
   "cell_type": "code",
   "execution_count": 87,
   "metadata": {},
   "outputs": [
    {
     "data": {
      "text/plain": [
       "3.1415927982531646"
      ]
     },
     "execution_count": 87,
     "metadata": {},
     "output_type": "execute_result"
    }
   ],
   "source": [
    "def exercicio_3_6_1(n):\n",
    "    if n < 0:\n",
    "        pi =  0\n",
    "    elif n == 1:\n",
    "        pi = 3\n",
    "    elif n%2 == 0:\n",
    "        pi = + 4/((2*n-2)*(2*n-1)*(2*n))+ exercicio_3_6_1(n-1)\n",
    "    elif n%2 == 1:\n",
    "        pi = - 4/((2*n-2)*(2*n-1)*(2*n))+ exercicio_3_6_1(n-1)\n",
    "    return pi\n",
    "exercicio_3_6_1(120)"
   ]
  },
  {
   "cell_type": "markdown",
   "metadata": {},
   "source": [
    "#### 3.6.2"
   ]
  },
  {
   "cell_type": "code",
   "execution_count": 1,
   "metadata": {},
   "outputs": [
    {
     "data": {
      "text/plain": [
       "3.1415929035585526"
      ]
     },
     "execution_count": 1,
     "metadata": {},
     "output_type": "execute_result"
    }
   ],
   "source": [
    "def exercicio_3_6_2(n):\n",
    "    if n <= 0:\n",
    "        pi = 0\n",
    "    elif n == 1:\n",
    "        pi = 2\n",
    "    else:\n",
    "        pi = 0\n",
    "        while n > 1 :\n",
    "            pi = ((-1)**n*4) / (2*n*(2*n-1)*(2*n-2)) + pi\n",
    "            n = n - 1\n",
    "    pi = pi + 3\n",
    "    return pi \n",
    "exercicio_3_6_2(100)"
   ]
  },
  {
   "cell_type": "markdown",
   "metadata": {},
   "source": [
    "### 3.7"
   ]
  },
  {
   "cell_type": "markdown",
   "metadata": {},
   "source": [
    "#### 3.7.1"
   ]
  },
  {
   "cell_type": "code",
   "execution_count": 244,
   "metadata": {},
   "outputs": [
    {
     "data": {
      "text/plain": [
       "21"
      ]
     },
     "execution_count": 244,
     "metadata": {},
     "output_type": "execute_result"
    }
   ],
   "source": [
    "def exercicio_3_7_1(n):\n",
    "    if n <= 0:\n",
    "        resultado = 0\n",
    "    elif n == 1:\n",
    "        resultado = 1\n",
    "    else:\n",
    "        resultado = exercicio_3_7_1(n-1) + exercicio_3_7_1(n-2)\n",
    "    return resultado\n",
    "\n",
    "exercicio_3_7_1(8)"
   ]
  },
  {
   "cell_type": "code",
   "execution_count": 2,
   "metadata": {},
   "outputs": [
    {
     "data": {
      "text/plain": [
       "34"
      ]
     },
     "execution_count": 2,
     "metadata": {},
     "output_type": "execute_result"
    }
   ],
   "source": [
    "def exercicio_3_7_2(n):\n",
    "    if n <= 0:\n",
    "        resultado = 0\n",
    "    p = 0\n",
    "    atual = 1\n",
    "    anterior = 0\n",
    "    while p < n:\n",
    "        resultado = atual + anterior\n",
    "        atual = anterior\n",
    "        anterior = resultado\n",
    "        p = p + 1\n",
    "    return resultado\n",
    "exercicio_3_7_2(9)"
   ]
  },
  {
   "cell_type": "markdown",
   "metadata": {},
   "source": [
    "### 3.8"
   ]
  },
  {
   "cell_type": "markdown",
   "metadata": {},
   "source": [
    "#### 3.8.1"
   ]
  },
  {
   "cell_type": "code",
   "execution_count": 3,
   "metadata": {},
   "outputs": [
    {
     "data": {
      "text/plain": [
       "1.7320508075688772"
      ]
     },
     "execution_count": 3,
     "metadata": {},
     "output_type": "execute_result"
    }
   ],
   "source": [
    "def exercicio_3_8_1dizima(n):\n",
    "    if n == 1 or n == 2:\n",
    "        resultado = 1\n",
    "    elif n > 2 and n%2 == 0:\n",
    "        resultado = 1 + 1/exercicio_3_8_1dizima(n-1)\n",
    "    elif n > 2 and n%2 == 1:\n",
    "        resultado = 2 + 1/exercicio_3_8_1dizima(n-1)\n",
    "    return resultado \n",
    "def exercicio_3_8_1(n):\n",
    "    if n % 2 == 1:\n",
    "        n = n + 1\n",
    "    if n <= 0:\n",
    "        resultado = 0\n",
    "    elif n == 1:\n",
    "        resultado = 1\n",
    "    elif n > 1:\n",
    "        resultado = 1 + 1/exercicio_3_8_1dizima(n)\n",
    "    return resultado\n",
    "        \n",
    "exercicio_3_8_1(1001)\n"
   ]
  },
  {
   "cell_type": "markdown",
   "metadata": {},
   "source": [
    "#### 3.8.2"
   ]
  },
  {
   "cell_type": "code",
   "execution_count": 4,
   "metadata": {},
   "outputs": [
    {
     "data": {
      "text/plain": [
       "1.7320508075688772"
      ]
     },
     "execution_count": 4,
     "metadata": {},
     "output_type": "execute_result"
    }
   ],
   "source": [
    "def exercicio_3_8_2(n):\n",
    "    import math\n",
    "    res = math.inf\n",
    "    if n <= 0:\n",
    "        res = 1\n",
    "    while n > 0:\n",
    "        if n%2 == 0:\n",
    "            res = 1 + 1/res\n",
    "            n = n - 1\n",
    "        elif n%2 ==1:\n",
    "            res =  2 + 1/res\n",
    "            n = n - 1 \n",
    "    res = res - 1\n",
    "    return res\n",
    "exercicio_3_8_2(100)"
   ]
  },
  {
   "cell_type": "markdown",
   "metadata": {},
   "source": [
    "### 3.9"
   ]
  },
  {
   "cell_type": "markdown",
   "metadata": {},
   "source": [
    "#### 3.9.1"
   ]
  },
  {
   "cell_type": "code",
   "execution_count": 106,
   "metadata": {},
   "outputs": [
    {
     "data": {
      "text/plain": [
       "1.4142857142857144"
      ]
     },
     "execution_count": 106,
     "metadata": {},
     "output_type": "execute_result"
    }
   ],
   "source": [
    "def exercicio_3_9_1dizima(n):\n",
    "    if n == 1:\n",
    "        resultado = 2\n",
    "    elif n >= 2:\n",
    "        resultado = 2 + 1/exercicio_3_9_1dizima(n-1)\n",
    "    return resultado \n",
    "def exercicio_3_9_1(n):\n",
    "    if n <= 0:\n",
    "        resultado = 0\n",
    "    elif n == 1:\n",
    "        resultado = 1\n",
    "    elif n > 1:\n",
    "        resultado = 1 + 1/exercicio_3_9_1dizima(n-1)\n",
    "    return resultado\n",
    "        \n",
    "exercicio_3_9_1(6) "
   ]
  },
  {
   "cell_type": "markdown",
   "metadata": {},
   "source": [
    "#### 3.9.2"
   ]
  },
  {
   "cell_type": "code",
   "execution_count": 5,
   "metadata": {},
   "outputs": [
    {
     "data": {
      "text/plain": [
       "1.4142857142857141"
      ]
     },
     "execution_count": 5,
     "metadata": {},
     "output_type": "execute_result"
    }
   ],
   "source": [
    "def exercicio_3_9_2(n):\n",
    "    import math\n",
    "    res = math.inf\n",
    "    if n <= 0:\n",
    "        res = 1\n",
    "    while n > 0:\n",
    "        res = 2 + 1/res\n",
    "        n = n - 1\n",
    "    res = res - 1\n",
    "    return res\n",
    "exercicio_3_9_2(6)"
   ]
  },
  {
   "cell_type": "code",
   "execution_count": null,
   "metadata": {},
   "outputs": [],
   "source": []
  }
 ],
 "metadata": {
  "kernelspec": {
   "display_name": "Python 3",
   "language": "python",
   "name": "python3"
  },
  "language_info": {
   "codemirror_mode": {
    "name": "ipython",
    "version": 3
   },
   "file_extension": ".py",
   "mimetype": "text/x-python",
   "name": "python",
   "nbconvert_exporter": "python",
   "pygments_lexer": "ipython3",
   "version": "3.7.3"
  }
 },
 "nbformat": 4,
 "nbformat_minor": 2
}
