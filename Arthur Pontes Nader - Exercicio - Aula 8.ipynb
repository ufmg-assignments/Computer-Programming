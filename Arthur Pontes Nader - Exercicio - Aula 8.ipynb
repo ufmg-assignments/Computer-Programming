{
 "cells": [
  {
   "cell_type": "markdown",
   "metadata": {},
   "source": [
    "# Nome : Arthur Pontes Nader\n",
    "\n",
    "# Matricula: 2019022294\n",
    "\n",
    "# Exercicio - Aula 8"
   ]
  },
  {
   "cell_type": "markdown",
   "metadata": {},
   "source": [
    "## 1"
   ]
  },
  {
   "cell_type": "code",
   "execution_count": 2,
   "metadata": {},
   "outputs": [
    {
     "data": {
      "text/plain": [
       "62"
      ]
     },
     "execution_count": 2,
     "metadata": {},
     "output_type": "execute_result"
    }
   ],
   "source": [
    "def exercicio_1(L):\n",
    "    soma = 0\n",
    "    for n in range (0,len(L)):\n",
    "        soma += L[n]\n",
    "    return soma\n",
    "\n",
    "L = [2,5,12,3,6,10,24]\n",
    "exercicio_1(L)"
   ]
  },
  {
   "cell_type": "markdown",
   "metadata": {},
   "source": [
    "## 2"
   ]
  },
  {
   "cell_type": "code",
   "execution_count": 17,
   "metadata": {},
   "outputs": [
    {
     "data": {
      "text/plain": [
       "8.857142857142858"
      ]
     },
     "execution_count": 17,
     "metadata": {},
     "output_type": "execute_result"
    }
   ],
   "source": [
    "def exercicio_2(L):\n",
    "    soma = 0\n",
    "    for n in range (0,len(L)):\n",
    "        soma += L[n]\n",
    "    quantidade = len(L)\n",
    "    media = soma/quantidade\n",
    "    return media\n",
    "\n",
    "L = [2,5,12,3,6,10,24]\n",
    "exercicio_2(L)"
   ]
  },
  {
   "cell_type": "markdown",
   "metadata": {},
   "source": [
    "## 3"
   ]
  },
  {
   "cell_type": "code",
   "execution_count": 13,
   "metadata": {},
   "outputs": [
    {
     "data": {
      "text/plain": [
       "(36, 1)"
      ]
     },
     "execution_count": 13,
     "metadata": {},
     "output_type": "execute_result"
    }
   ],
   "source": [
    "def exercicio_3(L):\n",
    "    if len(L) == 0:\n",
    "        maior = menor = None\n",
    "    else:\n",
    "        menor = maior = L[0]\n",
    "        n = 0\n",
    "        while n != len(L)-1:\n",
    "            n += 1\n",
    "            if L[n] > maior:\n",
    "                maior = L[n]\n",
    "            elif L[n] < menor:\n",
    "                menor = L[n]\n",
    "    return (maior,menor)\n",
    "\n",
    "L =[26,3,6,28,35,1,7,36,2]\n",
    "exercicio_3(L)"
   ]
  },
  {
   "cell_type": "markdown",
   "metadata": {},
   "source": [
    "## 4"
   ]
  },
  {
   "cell_type": "code",
   "execution_count": 15,
   "metadata": {},
   "outputs": [
    {
     "name": "stdout",
     "output_type": "stream",
     "text": [
      "O numero de strings da lista que tem tamanho maior ou igual a 2 e cujos primeiro e ultimo caracteres sao iguais é 5.\n"
     ]
    },
    {
     "data": {
      "text/plain": [
       "5"
      ]
     },
     "execution_count": 15,
     "metadata": {},
     "output_type": "execute_result"
    }
   ],
   "source": [
    "def exercicio_4(L):\n",
    "    resultado = 0\n",
    "    for n in range (0,len(L)):\n",
    "        if len(L[n]) >= 2 and L[n][0] == L[n][-1]:\n",
    "            resultado +=1\n",
    "    return resultado\n",
    "    \n",
    "L = [\"ele\",\"ela\",\"12321\",\"249\",\"9889\",\"mom\",\"string\",\"1asd1\",\"w\"]  \n",
    "\n",
    "print(\"O numero de strings da lista que tem tamanho maior ou igual a 2 e cujos primeiro e ultimo caracteres sao iguais é %d.\" %exercicio_4(L))\n",
    "\n",
    "exercicio_4(L)"
   ]
  },
  {
   "cell_type": "markdown",
   "metadata": {},
   "source": [
    "## 5"
   ]
  },
  {
   "cell_type": "code",
   "execution_count": 18,
   "metadata": {},
   "outputs": [
    {
     "name": "stdout",
     "output_type": "stream",
     "text": [
      "[5, 3, 5, 1, 6, 3, 4, 1, 2]\n",
      "[2, 3, 5, 1, 6, 3, 4, 1, 2]\n",
      "[5, 3, 5, 1, 6, 3, 4, 1, 2]\n"
     ]
    }
   ],
   "source": [
    "a = [2,3,5,1,6,3,4,1,2]\n",
    "b = a[:]\n",
    "c = a\n",
    "a[0] = 5\n",
    "\n",
    "\n",
    "print(a)\n",
    "print(b) #apesar de ter redefinido a[0], a lista b continua sendo uma copia da lista a inicial devido ao uso do parametro [:]\n",
    "print(c) #se colocarmos apenas c recebe a (c=a), mudanças em a tambem irao ocasionar as mesmas mudanças em c"
   ]
  },
  {
   "cell_type": "markdown",
   "metadata": {},
   "source": [
    "## 6"
   ]
  },
  {
   "cell_type": "code",
   "execution_count": 13,
   "metadata": {},
   "outputs": [
    {
     "data": {
      "text/plain": [
       "True"
      ]
     },
     "execution_count": 13,
     "metadata": {},
     "output_type": "execute_result"
    }
   ],
   "source": [
    "def exercicio_6(L1,L2):\n",
    "    a = len(L1) - 1\n",
    "    while a >= 0:\n",
    "        if L1[a] in L2:\n",
    "            booleano = True\n",
    "            break\n",
    "        else:\n",
    "            booleano = False\n",
    "            a -= 1\n",
    "    return booleano  \n",
    "\n",
    "L1 = [\"123,1234\",23,5,51,]\n",
    "L2 = [1,1,14,\"123,1234\",132,34,\"chave\"]\n",
    "exercicio_6(L1,L2)\n"
   ]
  },
  {
   "cell_type": "markdown",
   "metadata": {},
   "source": [
    "## 7"
   ]
  },
  {
   "cell_type": "code",
   "execution_count": 42,
   "metadata": {},
   "outputs": [
    {
     "name": "stdout",
     "output_type": "stream",
     "text": [
      "        *\n",
      "       ***\n",
      "      *****\n",
      "     *******\n",
      "    *********\n",
      "   ***********\n",
      "  *************\n",
      " ***************\n",
      "*****************\n",
      "\n"
     ]
    }
   ],
   "source": [
    "def exercicio_7(linhas):\n",
    "    arvore = \"\"\n",
    "    for a in range (1,linhas+1):\n",
    "        arvore += \" \"*(linhas-a) + \"*\"*(2*a-1) + \"\\n\"\n",
    "    return arvore\n",
    "\n",
    "linhas = 9\n",
    "print(exercicio_7(linhas))"
   ]
  },
  {
   "cell_type": "markdown",
   "metadata": {},
   "source": [
    "## 8"
   ]
  },
  {
   "cell_type": "code",
   "execution_count": 41,
   "metadata": {},
   "outputs": [
    {
     "name": "stdout",
     "output_type": "stream",
     "text": [
      "*************\n",
      " ***********\n",
      "  *********\n",
      "   *******\n",
      "    *****\n",
      "     ***\n",
      "      *\n",
      "\n"
     ]
    }
   ],
   "source": [
    "def exercicio_8(linhas):\n",
    "    arvore = \"\"\n",
    "    for a in range (linhas,0,-1):\n",
    "        arvore += \" \"*(linhas-a) + \"*\"*(2*a-1) + \"\\n\"\n",
    "    return arvore\n",
    "\n",
    "linhas = 7\n",
    "print(exercicio_8(linhas))"
   ]
  },
  {
   "cell_type": "markdown",
   "metadata": {},
   "source": [
    "## 9"
   ]
  }
 ],
 "metadata": {
  "kernelspec": {
   "display_name": "Python 3",
   "language": "python",
   "name": "python3"
  },
  "language_info": {
   "codemirror_mode": {
    "name": "ipython",
    "version": 3
   },
   "file_extension": ".py",
   "mimetype": "text/x-python",
   "name": "python",
   "nbconvert_exporter": "python",
   "pygments_lexer": "ipython3",
   "version": "3.7.3"
  }
 },
 "nbformat": 4,
 "nbformat_minor": 2
}
