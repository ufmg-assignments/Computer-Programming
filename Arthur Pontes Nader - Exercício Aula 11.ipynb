{
 "cells": [
  {
   "cell_type": "markdown",
   "metadata": {},
   "source": [
    "# Nome: Arthur Pontes Nader\n",
    "\n",
    "# Matricula: 2019022294\n",
    "\n",
    "# Exercicio - Aula 11"
   ]
  },
  {
   "cell_type": "markdown",
   "metadata": {},
   "source": [
    "## Exercício 1"
   ]
  },
  {
   "cell_type": "code",
   "execution_count": 131,
   "metadata": {},
   "outputs": [
    {
     "data": {
      "text/plain": [
       "'21 de outubro de 2019'"
      ]
     },
     "execution_count": 131,
     "metadata": {},
     "output_type": "execute_result"
    }
   ],
   "source": [
    "def exercicio_1(data):\n",
    "    if data[:2].isdigit() == False or data[3:5].isdigit() == False or data[6:].isdigit() == False:\n",
    "        string = None\n",
    "    elif (int(data [:2])) > 31 or (int(data [:2])) < 1 or (data[2] !=\"/\") or (data[5] != \"/\") or (int(data[3:5])) > 12 or (int(data[3:5])) < 1  or (int(data[6:])) >9999 or (int(data[6:])) <0:\n",
    "        string = None\n",
    "    elif int(data[3:5]) == 2 and int(data [:2]) > 29: ## verificacao para fevereiro\n",
    "        string = None\n",
    "    elif int(data [:2]) > 30:\n",
    "        if int(data[3:5]) == 4 or int(data[3:5]) == 6 or int(data[3:5]) == 9 or int(data[3:5]) == 11: ##verificacao para os meses que possuem 30 dias\n",
    "            string = None\n",
    "    else:\n",
    "        meses = [\"janeiro\", \"fevereiro\",\"marco\",\"abril\",\"maio\",\"junho\",\"julho\",\"agosto\",\"setembro\",\"outubro\",\"novembro\",\"dezembro\"]\n",
    "        string = f\"{data [:2]} de {meses[int(data[3:5]) - 1]} de {data[6:]}\"\n",
    "    return string\n",
    "    \n",
    "data = \"21/10/2019\"       \n",
    "exercicio_1(data)"
   ]
  },
  {
   "cell_type": "markdown",
   "metadata": {},
   "source": [
    "## Exercicio 2"
   ]
  },
  {
   "cell_type": "code",
   "execution_count": 140,
   "metadata": {},
   "outputs": [
    {
     "name": "stdout",
     "output_type": "stream",
     "text": [
      "([(' ', 18)], [('E', 1), ('a', 12), ('e', 10), ('i', 6), ('o', 12), ('u', 2)], [('c', 6), ('d', 2), ('f', 2), ('g', 1), ('n', 9), ('p', 3), ('r', 1), ('s', 15), ('t', 7), ('v', 1), ('x', 1)], [('!', 2), (',', 2)])\n"
     ]
    }
   ],
   "source": [
    "def exercicio_2(texto):\n",
    "    texto = texto.replace(\"Â\", \"A\")\n",
    "    texto = texto.replace(\"À\", \"A\")\n",
    "    texto = texto.replace(\"Ã\", \"A\")\n",
    "    texto = texto.replace(\"Á\", \"A\")\n",
    "    texto = texto.replace(\"à\", \"a\")\n",
    "    texto = texto.replace(\"ã\", \"a\")\n",
    "    texto = texto.replace(\"á\", \"a\")\n",
    "    texto = texto.replace(\"â\", \"a\")\n",
    "    texto = texto.replace(\"É\", \"E\")\n",
    "    texto = texto.replace(\"Ê\", \"E\")\n",
    "    texto = texto.replace(\"é\", \"e\")\n",
    "    texto = texto.replace(\"ê\", \"e\")\n",
    "    texto = texto.replace(\"Í\", \"I\")\n",
    "    texto = texto.replace(\"í\", \"i\")\n",
    "    texto = texto.replace(\"Ó\", \"O\")\n",
    "    texto = texto.replace(\"Õ\", \"O\")\n",
    "    texto = texto.replace(\"Ô\", \"O\")\n",
    "    texto = texto.replace(\"ó\", \"o\")\n",
    "    texto = texto.replace(\"õ\", \"o\")\n",
    "    texto = texto.replace(\"ô\", \"o\")\n",
    "    texto = texto.replace(\"Ú\", \"U\")\n",
    "    texto = texto.replace(\"ú\", \"u\")\n",
    "    texto = texto.replace(\"Ç\", \"C\")\n",
    "    texto = texto.replace(\"ç\", \"c\")\n",
    "    V = []\n",
    "    C = []\n",
    "    S = []\n",
    "    E = []\n",
    "    e = \" \"\n",
    "    espaco_1 = texto.count(e)\n",
    "    E.append((e,espaco_1))\n",
    "    vogais = [\"A\",\"E\",\"I\",\"O\",\"U\", \"a\", \"e\", \"i\", \"o\", \"u\"]\n",
    "    for n in range(len(vogais)):\n",
    "        c = texto.count(vogais[n])\n",
    "        if c != 0:\n",
    "            V.append((vogais[n],c))\n",
    "    consoantes = [\"B\", \"C\", \"D\", \"F\", \"G\", \"H\", \"J\", \"K\", \"L\", \"M\", \"N\", \"P\", \"Q\", \"R\", \"S\", \"T\", \"V\", \"W\", \"X\", \"Y\", \"Z\",\"b\", \"c\", \"d\", \"f\", \"g\", \"h\", \"j\", \"k\", \"l\", \"m\", \"n\", \"p\", \"q\", \"r\", \"s\", \"t\", \"v\", \"w\", \"x\", \"y\", \"z\"]\n",
    "    for n in range(len(consoantes)):\n",
    "        c = texto.count(consoantes[n])\n",
    "        if c != 0:\n",
    "            C.append((consoantes[n],c))\n",
    "    pontuacao = [\"!\", \".\", \",\", \":\", \";\"]\n",
    "    for n in range(len(pontuacao)):\n",
    "        c = texto.count(pontuacao[n])\n",
    "        if c != 0:\n",
    "            S.append((pontuacao[n],c))\n",
    "    return E, V, C, S\n",
    "\n",
    "texto = \"Essa funcao identifica e conta os espacos, as vogais, as consoantes e os sinais de pontuacao presentes no texto!!\"\n",
    "print(exercicio_2(texto))"
   ]
  },
  {
   "cell_type": "markdown",
   "metadata": {},
   "source": [
    "## Exercicio 3"
   ]
  },
  {
   "cell_type": "code",
   "execution_count": 122,
   "metadata": {},
   "outputs": [
    {
     "data": {
      "text/plain": [
       "True"
      ]
     },
     "execution_count": 122,
     "metadata": {},
     "output_type": "execute_result"
    }
   ],
   "source": [
    "def exercicio_3(cpf):\n",
    "    if len(cpf) != 14 or cpf[:3].isdigit() == False or cpf[4:7].isdigit() == False or cpf[8:11].isdigit() == False or cpf[12:].isdigit() == False or cpf[3] != \".\" or cpf[7] != \".\" or cpf [11] != \"-\":\n",
    "        resultado = None\n",
    "    else:\n",
    "        j = 11 - (10*int(cpf[0]) + 9*int(cpf[1]) + 8*int(cpf[2]) + 7*int(cpf[4]) + 6*int(cpf[5]) + 5*int(cpf[6]) + 4*int(cpf[8]) + 3*int(cpf[9]) + 2*int(cpf[10]))%11\n",
    "        if j > 9:\n",
    "            j = 0\n",
    "        k = 11 - (11*int(cpf[0]) + 10*int(cpf[1]) + 9*int(cpf[2]) + 8*int(cpf[4]) + 7*int(cpf[5]) + 6*int(cpf[6]) + 5*int(cpf[8]) + 4*int(cpf[9]) + 3*int(cpf[10]) + 2*int(cpf[12]))%11\n",
    "        if k > 9:\n",
    "            k = 0\n",
    "        if j == int(cpf[12]) and k == int(cpf[13]):\n",
    "            resultado = True\n",
    "        else:\n",
    "            resultado = False\n",
    "    return resultado\n",
    "     \n",
    "\n",
    "cpf = \"605.123.070-08\"\n",
    "exercicio_3(cpf)"
   ]
  },
  {
   "cell_type": "markdown",
   "metadata": {},
   "source": [
    "## Exercicio 4"
   ]
  },
  {
   "cell_type": "code",
   "execution_count": 138,
   "metadata": {},
   "outputs": [
    {
     "data": {
      "text/plain": [
       "'sessenta e tres'"
      ]
     },
     "execution_count": 138,
     "metadata": {},
     "output_type": "execute_result"
    }
   ],
   "source": [
    "def exercicio_4(n):\n",
    "    f = str(n)\n",
    "    numeros = [\"zero\",\"um\",\"dois\",\"tres\",\"quatro\",\"cinco\",\"seis\",\"sete\",\"oito\",\"nove\",\"dez\",\"onze\",\"doze\",\"treze\",\"quatorze\",\"quinze\",\"dezesseis\",\"dezessete\",\"dezoito\",\"dezenove\"]\n",
    "    if n >= 0 and n <=19 :\n",
    "        numeral = numeros[n]\n",
    "    elif n == 100:\n",
    "        numeral = \"cem\"  \n",
    "    elif 19 < n < 100:\n",
    "        unidade = numeros[(int(f[1]))]\n",
    "        dezena_1 = [\"vinte\",\"trinta\",\"quarente\",\"cinquenta\",\"sessenta\",\"setenta\",\"oitenta\",\"noventa\"]\n",
    "        dezena = dezena_1[int(f[0])-2]\n",
    "        if unidade == \"zero\":\n",
    "            numeral = f\"{dezena}\"\n",
    "        else:\n",
    "            numeral = f\"{dezena} e {unidade}\"\n",
    "    else:\n",
    "        numeral = None\n",
    "    return numeral\n",
    "     \n",
    "\n",
    "n = 63\n",
    "exercicio_4(n)"
   ]
  },
  {
   "cell_type": "markdown",
   "metadata": {},
   "source": [
    "## 5"
   ]
  },
  {
   "cell_type": "markdown",
   "metadata": {},
   "source": [
    "### 5.1"
   ]
  },
  {
   "cell_type": "code",
   "execution_count": 31,
   "metadata": {},
   "outputs": [
    {
     "name": "stdout",
     "output_type": "stream",
     "text": [
      "2 x 1 = 2\t2 x 2 = 4\t2 x 3 = 6\t2 x 4 = 8\t2 x 5 = 10\t2 x 6 = 12\t2 x 7 = 14\t2 x 8 = 16\t2 x 9 = 18\t\n",
      "3 x 1 = 3\t3 x 2 = 6\t3 x 3 = 9\t3 x 4 = 12\t3 x 5 = 15\t3 x 6 = 18\t3 x 7 = 21\t3 x 8 = 24\t3 x 9 = 27\t\n",
      "4 x 1 = 4\t4 x 2 = 8\t4 x 3 = 12\t4 x 4 = 16\t4 x 5 = 20\t4 x 6 = 24\t4 x 7 = 28\t4 x 8 = 32\t4 x 9 = 36\t\n",
      "5 x 1 = 5\t5 x 2 = 10\t5 x 3 = 15\t5 x 4 = 20\t5 x 5 = 25\t5 x 6 = 30\t5 x 7 = 35\t5 x 8 = 40\t5 x 9 = 45\t\n",
      "6 x 1 = 6\t6 x 2 = 12\t6 x 3 = 18\t6 x 4 = 24\t6 x 5 = 30\t6 x 6 = 36\t6 x 7 = 42\t6 x 8 = 48\t6 x 9 = 54\t\n",
      "7 x 1 = 7\t7 x 2 = 14\t7 x 3 = 21\t7 x 4 = 28\t7 x 5 = 35\t7 x 6 = 42\t7 x 7 = 49\t7 x 8 = 56\t7 x 9 = 63\t\n",
      "8 x 1 = 8\t8 x 2 = 16\t8 x 3 = 24\t8 x 4 = 32\t8 x 5 = 40\t8 x 6 = 48\t8 x 7 = 56\t8 x 8 = 64\t8 x 9 = 72\t\n",
      "9 x 1 = 9\t9 x 2 = 18\t9 x 3 = 27\t9 x 4 = 36\t9 x 5 = 45\t9 x 6 = 54\t9 x 7 = 63\t9 x 8 = 72\t9 x 9 = 81\t\n",
      "\n"
     ]
    }
   ],
   "source": [
    "def exercicio_5_1():\n",
    "    tabuada = \"\"\n",
    "    for a in range (2,10):\n",
    "        for b in range (1,10):\n",
    "            c = a*b\n",
    "            tabuada += f\"{a} x {b} = {c}\\t\"\n",
    "        tabuada += \"\\n\"\n",
    "    return tabuada\n",
    "\n",
    "print(exercicio_5_1())"
   ]
  },
  {
   "cell_type": "markdown",
   "metadata": {},
   "source": [
    "### 5.2"
   ]
  },
  {
   "cell_type": "code",
   "execution_count": 35,
   "metadata": {},
   "outputs": [
    {
     "name": "stdout",
     "output_type": "stream",
     "text": [
      "      1      1      1      1 \n",
      "      2      4      8     16 \n",
      "      3      9     27     81 \n",
      "      4     16     64    256 \n",
      "      5     25    125    625 \n",
      "      6     36    216   1296 \n",
      "      7     49    343   2401 \n",
      "      8     64    512   4096 \n",
      "      9     81    729   6561 \n",
      "     10    100   1000  10000 \n",
      "     11    121   1331  14641 \n",
      "     12    144   1728  20736 \n",
      "     13    169   2197  28561 \n",
      "     14    196   2744  38416 \n",
      "     15    225   3375  50625 \n",
      "     16    256   4096  65536 \n",
      "     17    289   4913  83521 \n",
      "     18    324   5832 104976 \n",
      "     19    361   6859 130321 \n",
      "     20    400   8000 160000 \n",
      "\n"
     ]
    }
   ],
   "source": [
    "def exercicio_5_2():\n",
    "    impressao= \"\"\n",
    "    for n in range (1,21):\n",
    "        a = n**2\n",
    "        b = n**3\n",
    "        c = n**4\n",
    "        impressao += f\"{n:>7}{a:>7}{b:>7}{c:>7} \\n\"\n",
    "    return impressao\n",
    "\n",
    "print(exercicio_5_2())\n",
    "        \n",
    "    "
   ]
  },
  {
   "cell_type": "markdown",
   "metadata": {},
   "source": [
    "### 5.3"
   ]
  },
  {
   "cell_type": "code",
   "execution_count": 139,
   "metadata": {},
   "outputs": [
    {
     "name": "stdout",
     "output_type": "stream",
     "text": [
      "\t\t\t\t\t\t\t1\n",
      "\t\t\t\t\t\t1\t\t1\t\t\n",
      "\t\t\t\t\t1\t\t2\t\t1\t\t\n",
      "\t\t\t\t1\t\t3\t\t3\t\t1\t\t\n",
      "\t\t\t1\t\t4\t\t6\t\t4\t\t1\t\t\n",
      "\t\t1\t\t5\t\t10\t\t10\t\t5\t\t1\t\t\n",
      "\t1\t\t6\t\t15\t\t20\t\t15\t\t6\t\t1\t\t\n",
      "1\t\t7\t\t21\t\t35\t\t35\t\t21\t\t7\t\t1\t\t\n",
      "\n"
     ]
    }
   ],
   "source": [
    "def exercicio_5_3(n):\n",
    "    piramide = \"\"\n",
    "    t = 1,\n",
    "    piramide += \"\\t\"*(n-1) + \"1\" + \"\\n\"\n",
    "    for x in range (n-1): \n",
    "        piramide += \"\\t\"*(n-x-2)\n",
    "        p = [1]\n",
    "        for a in range (len(t) - 1):\n",
    "            p.append(t[a] + t[a+1])\n",
    "        p.append(1)\n",
    "        t = tuple(p)\n",
    "        for c in range (len(t)):\n",
    "            piramide += f\"{t[c]}\\t\\t\"\n",
    "        piramide += \"\\n\"\n",
    "    return piramide\n",
    "\n",
    "n = 8\n",
    "print(exercicio_5_3(n))"
   ]
  }
 ],
 "metadata": {
  "kernelspec": {
   "display_name": "Python 3",
   "language": "python",
   "name": "python3"
  },
  "language_info": {
   "codemirror_mode": {
    "name": "ipython",
    "version": 3
   },
   "file_extension": ".py",
   "mimetype": "text/x-python",
   "name": "python",
   "nbconvert_exporter": "python",
   "pygments_lexer": "ipython3",
   "version": "3.7.3"
  }
 },
 "nbformat": 4,
 "nbformat_minor": 2
}
