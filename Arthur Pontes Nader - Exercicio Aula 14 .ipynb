{
 "cells": [
  {
   "cell_type": "markdown",
   "metadata": {},
   "source": [
    "# Nome : Arthur Pontes Nader\n",
    "\n",
    "# Matrícula: 2019022294\n",
    "\n",
    "# Exercício - Aula 14"
   ]
  },
  {
   "cell_type": "markdown",
   "metadata": {},
   "source": [
    "## 1"
   ]
  },
  {
   "cell_type": "code",
   "execution_count": 141,
   "metadata": {},
   "outputs": [
    {
     "name": "stdout",
     "output_type": "stream",
     "text": [
      "['amarelo', 'amarelo', 'amarelo', 'azul', 'azul', 'amarelo', 'azul', 'azul']\n"
     ]
    }
   ],
   "source": [
    "def exercicio_14_1_1_1(cores):\n",
    "    combinacao =[]\n",
    "    for cor1 in cores:\n",
    "        for cor2 in cores:\n",
    "            combinacao.append(cor1)\n",
    "            combinacao.append(cor2)\n",
    "    return combinacao\n",
    "\n",
    "cores = [\"amarelo\", \"azul\"]\n",
    "print(exercicio_14_1_1_1(cores))"
   ]
  },
  {
   "cell_type": "code",
   "execution_count": 2,
   "metadata": {},
   "outputs": [
    {
     "name": "stdout",
     "output_type": "stream",
     "text": [
      "['amarelo', 'amarelo', 'amarelo', 'azul', 'azul', 'amarelo', 'azul', 'azul']\n"
     ]
    }
   ],
   "source": [
    "def exercicio_14_1_1_2(cores):\n",
    "    combinacao1 = [[cor1,cor2] for cor1 in cores for cor2 in cores]\n",
    "    combinacao2 = [combinacao[b] for combinacao  in combinacao1 for b in range(2)]\n",
    "    return combinacao2\n",
    "\n",
    "cores = [\"amarelo\", \"azul\"]\n",
    "print(exercicio_14_1_1_2(cores))"
   ]
  },
  {
   "cell_type": "code",
   "execution_count": 3,
   "metadata": {},
   "outputs": [
    {
     "name": "stdout",
     "output_type": "stream",
     "text": [
      "[['amarelo', 'amarelo'], ['amarelo', 'azul'], ['azul', 'amarelo'], ['azul', 'azul']]\n"
     ]
    }
   ],
   "source": [
    "def exercicio_14_1_2_1(cores):\n",
    "    combinacao =[]\n",
    "    for cor1 in cores:\n",
    "        for cor2 in cores:\n",
    "            combinacao.append([cor1,cor2])\n",
    "    return combinacao\n",
    "\n",
    "cores = [\"amarelo\", \"azul\"]\n",
    "print(exercicio_14_1_2_1(cores))"
   ]
  },
  {
   "cell_type": "code",
   "execution_count": 4,
   "metadata": {},
   "outputs": [
    {
     "name": "stdout",
     "output_type": "stream",
     "text": [
      "[['amarelo', 'amarelo'], ['amarelo', 'azul'], ['azul', 'amarelo'], ['azul', 'azul']]\n"
     ]
    }
   ],
   "source": [
    "def exercicio_14_1_2_2(cores):\n",
    "    combinacao = [[cor1,cor2] for cor1 in cores for cor2 in cores]\n",
    "    return combinacao\n",
    "\n",
    "cores = [\"amarelo\", \"azul\"]\n",
    "print(exercicio_14_1_2_2(cores))"
   ]
  },
  {
   "cell_type": "code",
   "execution_count": 44,
   "metadata": {},
   "outputs": [
    {
     "name": "stdout",
     "output_type": "stream",
     "text": [
      "(['amarelo', 'amarelo', 'azul', 'azul'], [['amarelo', 'amarelo'], ['azul', 'azul']])\n"
     ]
    }
   ],
   "source": [
    "def exercicio_14_1_3_1(cores):\n",
    "    combinacao1 =[]\n",
    "    for cor1 in cores:\n",
    "        for cor2 in cores:\n",
    "            if cor1 == cor2:\n",
    "                combinacao1.append(cor1)\n",
    "                combinacao1.append(cor2)\n",
    "    combinacao2 =[]\n",
    "    for cor1 in cores:\n",
    "        for cor2 in cores:\n",
    "            if cor1 == cor2:\n",
    "                combinacao2.append([cor1,cor2])\n",
    "    return combinacao1, combinacao2\n",
    "\n",
    "cores = [\"amarelo\", \"azul\"]\n",
    "print(exercicio_14_1_3_1(cores))"
   ]
  },
  {
   "cell_type": "code",
   "execution_count": 17,
   "metadata": {},
   "outputs": [
    {
     "name": "stdout",
     "output_type": "stream",
     "text": [
      "(['amarelo', 'amarelo', 'azul', 'azul'], [['amarelo', 'amarelo'], ['azul', 'azul']])\n"
     ]
    }
   ],
   "source": [
    "def exercicio_14_1_3_2(cores): \n",
    "    combinacao2 = [[cor1,cor2] for cor1 in cores for cor2 in cores if cor1==cor2]\n",
    "    combinacao1 = [combinacao[b] for combinacao in combinacao2 for b in range(2)]\n",
    "    return combinacao1, combinacao2\n",
    "\n",
    "cores = [\"amarelo\", \"azul\"]\n",
    "print(exercicio_14_1_3_2(cores))"
   ]
  },
  {
   "cell_type": "code",
   "execution_count": 5,
   "metadata": {},
   "outputs": [
    {
     "name": "stdout",
     "output_type": "stream",
     "text": [
      "(['amarelo', 'azul', 'azul', 'amarelo'], [['amarelo', 'azul'], ['azul', 'amarelo']])\n"
     ]
    }
   ],
   "source": [
    "def exercicio_14_1_4_1(cores):\n",
    "    combinacao1 =[]\n",
    "    for cor1 in cores:\n",
    "        for cor2 in cores:\n",
    "            if cor1 != cor2:\n",
    "                combinacao1.append(cor1)\n",
    "                combinacao1.append(cor2)\n",
    "    combinacao2 =[]\n",
    "    for cor1 in cores:\n",
    "        for cor2 in cores:\n",
    "            if cor1 != cor2:\n",
    "                combinacao2.append([cor1,cor2])\n",
    "    return combinacao1, combinacao2\n",
    "\n",
    "\n",
    "cores = [\"amarelo\", \"azul\"]\n",
    "print(exercicio_14_1_4_1(cores))"
   ]
  },
  {
   "cell_type": "code",
   "execution_count": 18,
   "metadata": {},
   "outputs": [
    {
     "name": "stdout",
     "output_type": "stream",
     "text": [
      "(['amarelo', 'azul', 'azul', 'amarelo'], [['amarelo', 'azul'], ['azul', 'amarelo']])\n"
     ]
    }
   ],
   "source": [
    "def exercicio_14_1_4_2(cores):\n",
    "    combinacao2 = [[cor1,cor2] for cor1 in cores for cor2 in cores if cor1!=cor2]\n",
    "    combinacao1 = [combinacao[b] for combinacao in combinacao2 for b in range(2)]\n",
    "    return combinacao1, combinacao2\n",
    "\n",
    "cores = [\"amarelo\", \"azul\"]\n",
    "print(exercicio_14_1_4_2(cores))"
   ]
  },
  {
   "cell_type": "markdown",
   "metadata": {},
   "source": [
    "## 2"
   ]
  },
  {
   "cell_type": "code",
   "execution_count": 6,
   "metadata": {},
   "outputs": [
    {
     "name": "stdout",
     "output_type": "stream",
     "text": [
      "[('azul', 'carro'), ('azul', 'relogio'), ('azul', 'bola'), ('verde', 'carro'), ('verde', 'relogio'), ('verde', 'bola')]\n"
     ]
    }
   ],
   "source": [
    "def exercicio_14_2_1_1(cores,objetos):\n",
    "    combinacao = []\n",
    "    for cor in cores:\n",
    "        for objeto in objetos:\n",
    "            combinacao.append((cor,objeto))\n",
    "    return combinacao\n",
    "    \n",
    "    \n",
    "cores = [\"azul\", \"verde\"]\n",
    "objetos = [\"carro\", \"relogio\", \"bola\"]\n",
    "\n",
    "print(exercicio_14_2_1_1(cores,objetos))"
   ]
  },
  {
   "cell_type": "code",
   "execution_count": 7,
   "metadata": {},
   "outputs": [
    {
     "name": "stdout",
     "output_type": "stream",
     "text": [
      "[('azul', 'carro'), ('azul', 'relogio'), ('azul', 'bola'), ('verde', 'carro'), ('verde', 'relogio'), ('verde', 'bola')]\n"
     ]
    }
   ],
   "source": [
    "def exercicio_14_2_1_2(cores,objetos):\n",
    "    combinacao = [(cor,objeto) for cor in cores for objeto in objetos]\n",
    "    return combinacao\n",
    "    \n",
    "cores = [\"azul\", \"verde\"]\n",
    "objetos = [\"carro\", \"relogio\", \"bola\"]    \n",
    "\n",
    "print(exercicio_14_2_1_2(cores,objetos))"
   ]
  },
  {
   "cell_type": "code",
   "execution_count": 47,
   "metadata": {},
   "outputs": [
    {
     "name": "stdout",
     "output_type": "stream",
     "text": [
      "({'azul': ['carro', 'relogio', 'bola'], 'verde': ['carro', 'relogio', 'bola']}, {'carro': ['azul', 'verde'], 'relogio': ['azul', 'verde'], 'bola': ['azul', 'verde']})\n"
     ]
    }
   ],
   "source": [
    "def exercicio_14_2_2_1(lista_cores_objetos):\n",
    "    objetos = []\n",
    "    for n in range (len(lista_cores_objetos)):\n",
    "        if lista_cores_objetos[n][1] not in objetos:\n",
    "            objetos.append(lista_cores_objetos[n][1])\n",
    "    cores = []\n",
    "    for n in range (len(lista_cores_objetos)):\n",
    "        if lista_cores_objetos[n][0] not in cores:\n",
    "            cores.append(lista_cores_objetos[n][0])\n",
    "    dic1 = {}\n",
    "    for cor in cores:\n",
    "        dic1[cor] = objetos\n",
    "    dic2 = {}\n",
    "    for objeto in objetos:\n",
    "        dic2[objeto] = cores\n",
    "    return dic1, dic2\n",
    "\n",
    "lista_cores_objetos = [('azul', 'carro'), ('azul', 'relogio'), ('azul', 'bola'), ('verde', 'carro'), ('verde', 'relogio'), ('verde', 'bola')]\n",
    "print(exercicio_14_2_2_1(lista_cores_objetos))"
   ]
  },
  {
   "cell_type": "code",
   "execution_count": 97,
   "metadata": {},
   "outputs": [
    {
     "name": "stdout",
     "output_type": "stream",
     "text": [
      "({'azul': ['carro', 'relogio', 'bola'], 'verde': ['carro', 'relogio', 'bola']}, {'carro': ['azul', 'verde'], 'relogio': ['azul', 'verde'], 'bola': ['azul', 'verde']})\n"
     ]
    }
   ],
   "source": [
    "def exercicio_14_2_2_2(lista_cores_objetos):\n",
    "    objetos = [lista_cores_objetos[n][1] for n in range(len(lista_cores_objetos)) if lista_cores_objetos[n][1]]\n",
    "    objetos2 = []\n",
    "    for n in range (len(objetos)):\n",
    "        if objetos[n] not in objetos2:\n",
    "            objetos2.append(objetos[n])\n",
    "    cores = [lista_cores_objetos[n][0] for n in range(len(lista_cores_objetos)) if lista_cores_objetos[n][0]]\n",
    "    cores2 = []\n",
    "    for n in range (len(cores)):\n",
    "        if cores[n] not in cores2:\n",
    "            cores2.append(cores[n])\n",
    "    dic1 = {cor : objetos2 for cor in cores}\n",
    "    dic2 = {objeto: cores2 for objeto in objetos}\n",
    "    return dic1, dic2\n",
    "\n",
    "lista_cores_objetos = [('azul', 'carro'), ('azul', 'relogio'), ('azul', 'bola'), ('verde', 'carro'), ('verde', 'relogio'), ('verde', 'bola')]\n",
    "print(exercicio_14_2_2_2(lista_cores_objetos))"
   ]
  },
  {
   "cell_type": "markdown",
   "metadata": {},
   "source": [
    "## 3"
   ]
  },
  {
   "cell_type": "code",
   "execution_count": 9,
   "metadata": {},
   "outputs": [
    {
     "name": "stdout",
     "output_type": "stream",
     "text": [
      "[7, 17, 27, 37, 47, 57, 67, 70, 71, 72, 73, 74, 75, 76, 77, 78, 79, 87, 97, 107, 117, 127, 137, 147, 157, 167, 170, 171, 172, 173, 174, 175, 176, 177, 178, 179, 187, 197, 207, 217, 227, 237, 247, 257, 267, 270, 271, 272, 273, 274, 275, 276, 277, 278, 279, 287, 297, 307, 317, 327, 337, 347, 357, 367, 370, 371, 372, 373, 374, 375, 376, 377, 378, 379, 387, 397, 407, 417, 427, 437, 447, 457, 467, 470, 471, 472, 473, 474, 475, 476, 477, 478, 479, 487, 497, 507, 517, 527, 537, 547, 557, 567, 570, 571, 572, 573, 574, 575, 576, 577, 578, 579, 587, 597, 607, 617, 627, 637, 647, 657, 667, 670, 671, 672, 673, 674, 675, 676, 677, 678, 679, 687, 697, 700, 701, 702, 703, 704, 705, 706, 707, 708, 709, 710, 711, 712, 713, 714, 715, 716, 717, 718, 719, 720, 721, 722, 723, 724, 725, 726, 727, 728, 729, 730, 731, 732, 733, 734, 735, 736, 737, 738, 739, 740, 741, 742, 743, 744, 745, 746, 747, 748, 749, 750, 751, 752, 753, 754, 755, 756, 757, 758, 759, 760, 761, 762, 763, 764, 765, 766, 767, 768, 769, 770, 771, 772, 773, 774, 775, 776, 777, 778, 779, 780, 781, 782, 783, 784, 785, 786, 787, 788, 789, 790, 791, 792, 793, 794, 795, 796, 797, 798, 799, 807, 817, 827, 837, 847, 857, 867, 870, 871, 872, 873, 874, 875, 876, 877, 878, 879, 887, 897, 907, 917, 927, 937, 947, 957, 967, 970, 971, 972, 973, 974, 975, 976, 977, 978, 979, 987, 997]\n"
     ]
    }
   ],
   "source": [
    "def exercicio_14_3_1_1(ini,fim):\n",
    "    sete =[]\n",
    "    for n in range (ini,fim+1):\n",
    "        a = str(n)\n",
    "        if \"7\" in a:\n",
    "            sete.append(n)\n",
    "    return sete\n",
    "    \n",
    "ini = 1\n",
    "fim = 1000\n",
    "print(exercicio_14_3_1_1(ini,fim))"
   ]
  },
  {
   "cell_type": "code",
   "execution_count": 10,
   "metadata": {},
   "outputs": [
    {
     "name": "stdout",
     "output_type": "stream",
     "text": [
      "[7, 17, 27, 37, 47, 57, 67, 70, 71, 72, 73, 74, 75, 76, 77, 78, 79, 87, 97, 107, 117, 127, 137, 147, 157, 167, 170, 171, 172, 173, 174, 175, 176, 177, 178, 179, 187, 197, 207, 217, 227, 237, 247, 257, 267, 270, 271, 272, 273, 274, 275, 276, 277, 278, 279, 287, 297, 307, 317, 327, 337, 347, 357, 367, 370, 371, 372, 373, 374, 375, 376, 377, 378, 379, 387, 397, 407, 417, 427, 437, 447, 457, 467, 470, 471, 472, 473, 474, 475, 476, 477, 478, 479, 487, 497, 507, 517, 527, 537, 547, 557, 567, 570, 571, 572, 573, 574, 575, 576, 577, 578, 579, 587, 597, 607, 617, 627, 637, 647, 657, 667, 670, 671, 672, 673, 674, 675, 676, 677, 678, 679, 687, 697, 700, 701, 702, 703, 704, 705, 706, 707, 708, 709, 710, 711, 712, 713, 714, 715, 716, 717, 718, 719, 720, 721, 722, 723, 724, 725, 726, 727, 728, 729, 730, 731, 732, 733, 734, 735, 736, 737, 738, 739, 740, 741, 742, 743, 744, 745, 746, 747, 748, 749, 750, 751, 752, 753, 754, 755, 756, 757, 758, 759, 760, 761, 762, 763, 764, 765, 766, 767, 768, 769, 770, 771, 772, 773, 774, 775, 776, 777, 778, 779, 780, 781, 782, 783, 784, 785, 786, 787, 788, 789, 790, 791, 792, 793, 794, 795, 796, 797, 798, 799, 807, 817, 827, 837, 847, 857, 867, 870, 871, 872, 873, 874, 875, 876, 877, 878, 879, 887, 897, 907, 917, 927, 937, 947, 957, 967, 970, 971, 972, 973, 974, 975, 976, 977, 978, 979, 987, 997]\n"
     ]
    }
   ],
   "source": [
    "def exercicio_14_3_1_2(ini,fim):\n",
    "    sete =[n for n in range (ini,fim+1) if \"7\" in str(n)]\n",
    "    return sete\n",
    "    \n",
    "ini = 1\n",
    "fim = 1000\n",
    "print(exercicio_14_3_1_2(ini,fim))"
   ]
  },
  {
   "cell_type": "code",
   "execution_count": 12,
   "metadata": {},
   "outputs": [
    {
     "name": "stdout",
     "output_type": "stream",
     "text": [
      "[11, 22, 33, 44, 55, 66, 77, 88, 99, 110, 121, 132, 143, 154, 165, 176, 187, 198, 209, 220, 231, 242, 253, 264, 275, 286, 297, 308, 319, 330, 341, 352, 363, 374, 385, 396, 407, 418, 429, 440, 451, 462, 473, 484, 495, 506, 517, 528, 539, 550, 561, 572, 583, 594, 605, 616, 627, 638, 649, 660, 671, 682, 693, 704, 715, 726, 737, 748, 759, 770, 781, 792, 803, 814, 825, 836, 847, 858, 869, 880, 891, 902, 913, 924, 935, 946, 957, 968, 979, 990]\n"
     ]
    }
   ],
   "source": [
    "def exercicio_14_3_2_1(ini,fim):\n",
    "    onze = []\n",
    "    for n in range (ini,fim+1):\n",
    "        if n%11 == 0:\n",
    "            onze.append(n)\n",
    "    return onze\n",
    "\n",
    "ini = 1\n",
    "fim = 1000\n",
    "print(exercicio_14_3_2_1(ini,fim))"
   ]
  },
  {
   "cell_type": "code",
   "execution_count": 13,
   "metadata": {},
   "outputs": [
    {
     "name": "stdout",
     "output_type": "stream",
     "text": [
      "[11, 22, 33, 44, 55, 66, 77, 88, 99, 110, 121, 132, 143, 154, 165, 176, 187, 198, 209, 220, 231, 242, 253, 264, 275, 286, 297, 308, 319, 330, 341, 352, 363, 374, 385, 396, 407, 418, 429, 440, 451, 462, 473, 484, 495, 506, 517, 528, 539, 550, 561, 572, 583, 594, 605, 616, 627, 638, 649, 660, 671, 682, 693, 704, 715, 726, 737, 748, 759, 770, 781, 792, 803, 814, 825, 836, 847, 858, 869, 880, 891, 902, 913, 924, 935, 946, 957, 968, 979, 990]\n"
     ]
    }
   ],
   "source": [
    "def exercicio_14_3_2_2(ini,fim):\n",
    "    onze = [n for n in range(ini,fim+1) if n%11 == 0]\n",
    "    return onze\n",
    " \n",
    "ini = 1\n",
    "fim = 1000    \n",
    "print(exercicio_14_3_2_2(ini,fim))"
   ]
  },
  {
   "cell_type": "code",
   "execution_count": 72,
   "metadata": {},
   "outputs": [
    {
     "name": "stdout",
     "output_type": "stream",
     "text": [
      "[2, 3, 4, 5, 6, 7, 8, 9, 10, 12, 14, 15, 16, 18, 20, 21, 22, 24, 25, 26, 27, 28, 30, 32, 33, 34, 35, 36, 38, 39, 40, 42, 44, 45, 46, 48, 49, 50, 51, 52, 54, 55, 56, 57, 58, 60, 62, 63, 64, 65, 66, 68, 69, 70, 72, 74, 75, 76, 77, 78, 80, 81, 82, 84, 85, 86, 87, 88, 90, 91, 92, 93, 94, 95, 96, 98, 99, 100, 102, 104, 105, 106, 108, 110, 111, 112, 114, 115, 116, 117, 118, 119, 120, 122, 123, 124, 125, 126, 128, 129, 130, 132, 133, 134, 135, 136, 138, 140, 141, 142, 144, 145, 146, 147, 148, 150, 152, 153, 154, 155, 156, 158, 159, 160, 161, 162, 164, 165, 166, 168, 170, 171, 172, 174, 175, 176, 177, 178, 180, 182, 183, 184, 185, 186, 188, 189, 190, 192, 194, 195, 196, 198, 200, 201, 202, 203, 204, 205, 206, 207, 208, 210, 212, 213, 214, 215, 216, 217, 218, 219, 220, 222, 224, 225, 226, 228, 230, 231, 232, 234, 235, 236, 237, 238, 240, 242, 243, 244, 245, 246, 248, 249, 250, 252, 254, 255, 256, 258, 259, 260, 261, 262, 264, 265, 266, 267, 268, 270, 272, 273, 274, 275, 276, 278, 279, 280, 282, 284, 285, 286, 287, 288, 290, 291, 292, 294, 295, 296, 297, 298, 300, 301, 302, 303, 304, 305, 306, 308, 309, 310, 312, 314, 315, 316, 318, 320, 321, 322, 324, 325, 326, 327, 328, 329, 330, 332, 333, 334, 335, 336, 338, 339, 340, 342, 343, 344, 345, 346, 348, 350, 351, 352, 354, 355, 356, 357, 358, 360, 362, 363, 364, 365, 366, 368, 369, 370, 371, 372, 374, 375, 376, 378, 380, 381, 382, 384, 385, 386, 387, 388, 390, 392, 393, 394, 395, 396, 398, 399, 400, 402, 404, 405, 406, 408, 410, 411, 412, 413, 414, 415, 416, 417, 418, 420, 422, 423, 424, 425, 426, 427, 428, 429, 430, 432, 434, 435, 436, 438, 440, 441, 442, 444, 445, 446, 447, 448, 450, 452, 453, 454, 455, 456, 458, 459, 460, 462, 464, 465, 466, 468, 469, 470, 471, 472, 474, 475, 476, 477, 478, 480, 482, 483, 484, 485, 486, 488, 489, 490, 492, 494, 495, 496, 497, 498, 500, 501, 502, 504, 505, 506, 507, 508, 510, 511, 512, 513, 514, 515, 516, 518, 519, 520, 522, 524, 525, 526, 528, 530, 531, 532, 534, 535, 536, 537, 538, 539, 540, 542, 543, 544, 545, 546, 548, 549, 550, 552, 553, 554, 555, 556, 558, 560, 561, 562, 564, 565, 566, 567, 568, 570, 572, 573, 574, 575, 576, 578, 579, 580, 581, 582, 584, 585, 586, 588, 590, 591, 592, 594, 595, 596, 597, 598, 600, 602, 603, 604, 605, 606, 608, 609, 610, 612, 614, 615, 616, 618, 620, 621, 622, 623, 624, 625, 626, 627, 628, 630, 632, 633, 634, 635, 636, 637, 638, 639, 640, 642, 644, 645, 646, 648, 650, 651, 652, 654, 655, 656, 657, 658, 660, 662, 663, 664, 665, 666, 668, 669, 670, 672, 674, 675, 676, 678, 679, 680, 681, 682, 684, 685, 686, 687, 688, 690, 692, 693, 694, 695, 696, 698, 699, 700, 702, 704, 705, 706, 707, 708, 710, 711, 712, 714, 715, 716, 717, 718, 720, 721, 722, 723, 724, 725, 726, 728, 729, 730, 732, 734, 735, 736, 738, 740, 741, 742, 744, 745, 746, 747, 748, 749, 750, 752, 753, 754, 755, 756, 758, 759, 760, 762, 763, 764, 765, 766, 768, 770, 771, 772, 774, 775, 776, 777, 778, 780, 782, 783, 784, 785, 786, 788, 789, 790, 791, 792, 794, 795, 796, 798, 800, 801, 802, 804, 805, 806, 807, 808, 810, 812, 813, 814, 815, 816, 818, 819, 820, 822, 824, 825, 826, 828, 830, 831, 832, 833, 834, 835, 836, 837, 838, 840, 842, 843, 844, 845, 846, 847, 848, 849, 850, 852, 854, 855, 856, 858, 860, 861, 862, 864, 865, 866, 867, 868, 870, 872, 873, 874, 875, 876, 878, 879, 880, 882, 884, 885, 886, 888, 889, 890, 891, 892, 894, 895, 896, 897, 898, 900, 902, 903, 904, 905, 906, 908, 909, 910, 912, 914, 915, 916, 917, 918, 920, 921, 922, 924, 925, 926, 927, 928, 930, 931, 932, 933, 934, 935, 936, 938, 939, 940, 942, 944, 945, 946, 948, 950, 951, 952, 954, 955, 956, 957, 958, 959, 960, 962, 963, 964, 965, 966, 968, 969, 970, 972, 973, 974, 975, 976, 978, 980, 981, 982, 984, 985, 986, 987, 988, 990, 992, 993, 994, 995, 996, 998, 999, 1000]\n"
     ]
    }
   ],
   "source": [
    "def exercicio_14_3_3_1(ini,fim):\n",
    "    numeros = []\n",
    "    for n in range (ini,fim+1):\n",
    "        for k in range (2,10):\n",
    "            if n%k == 0:\n",
    "                numeros.append(n)\n",
    "                break\n",
    "    return numeros\n",
    " \n",
    "ini = 1\n",
    "fim = 1000\n",
    "print(exercicio_14_3_3_1(ini,fim))"
   ]
  },
  {
   "cell_type": "code",
   "execution_count": 90,
   "metadata": {},
   "outputs": [
    {
     "name": "stdout",
     "output_type": "stream",
     "text": [
      "[2, 3, 4, 5, 6, 7, 8, 9, 10, 12, 14, 15, 16, 18, 20, 21, 22, 24, 25, 26, 27, 28, 30, 32, 33, 34, 35, 36, 38, 39, 40, 42, 44, 45, 46, 48, 49, 50, 51, 52, 54, 55, 56, 57, 58, 60, 62, 63, 64, 65, 66, 68, 69, 70, 72, 74, 75, 76, 77, 78, 80, 81, 82, 84, 85, 86, 87, 88, 90, 91, 92, 93, 94, 95, 96, 98, 99, 100, 102, 104, 105, 106, 108, 110, 111, 112, 114, 115, 116, 117, 118, 119, 120, 122, 123, 124, 125, 126, 128, 129, 130, 132, 133, 134, 135, 136, 138, 140, 141, 142, 144, 145, 146, 147, 148, 150, 152, 153, 154, 155, 156, 158, 159, 160, 161, 162, 164, 165, 166, 168, 170, 171, 172, 174, 175, 176, 177, 178, 180, 182, 183, 184, 185, 186, 188, 189, 190, 192, 194, 195, 196, 198, 200, 201, 202, 203, 204, 205, 206, 207, 208, 210, 212, 213, 214, 215, 216, 217, 218, 219, 220, 222, 224, 225, 226, 228, 230, 231, 232, 234, 235, 236, 237, 238, 240, 242, 243, 244, 245, 246, 248, 249, 250, 252, 254, 255, 256, 258, 259, 260, 261, 262, 264, 265, 266, 267, 268, 270, 272, 273, 274, 275, 276, 278, 279, 280, 282, 284, 285, 286, 287, 288, 290, 291, 292, 294, 295, 296, 297, 298, 300, 301, 302, 303, 304, 305, 306, 308, 309, 310, 312, 314, 315, 316, 318, 320, 321, 322, 324, 325, 326, 327, 328, 329, 330, 332, 333, 334, 335, 336, 338, 339, 340, 342, 343, 344, 345, 346, 348, 350, 351, 352, 354, 355, 356, 357, 358, 360, 362, 363, 364, 365, 366, 368, 369, 370, 371, 372, 374, 375, 376, 378, 380, 381, 382, 384, 385, 386, 387, 388, 390, 392, 393, 394, 395, 396, 398, 399, 400, 402, 404, 405, 406, 408, 410, 411, 412, 413, 414, 415, 416, 417, 418, 420, 422, 423, 424, 425, 426, 427, 428, 429, 430, 432, 434, 435, 436, 438, 440, 441, 442, 444, 445, 446, 447, 448, 450, 452, 453, 454, 455, 456, 458, 459, 460, 462, 464, 465, 466, 468, 469, 470, 471, 472, 474, 475, 476, 477, 478, 480, 482, 483, 484, 485, 486, 488, 489, 490, 492, 494, 495, 496, 497, 498, 500, 501, 502, 504, 505, 506, 507, 508, 510, 511, 512, 513, 514, 515, 516, 518, 519, 520, 522, 524, 525, 526, 528, 530, 531, 532, 534, 535, 536, 537, 538, 539, 540, 542, 543, 544, 545, 546, 548, 549, 550, 552, 553, 554, 555, 556, 558, 560, 561, 562, 564, 565, 566, 567, 568, 570, 572, 573, 574, 575, 576, 578, 579, 580, 581, 582, 584, 585, 586, 588, 590, 591, 592, 594, 595, 596, 597, 598, 600, 602, 603, 604, 605, 606, 608, 609, 610, 612, 614, 615, 616, 618, 620, 621, 622, 623, 624, 625, 626, 627, 628, 630, 632, 633, 634, 635, 636, 637, 638, 639, 640, 642, 644, 645, 646, 648, 650, 651, 652, 654, 655, 656, 657, 658, 660, 662, 663, 664, 665, 666, 668, 669, 670, 672, 674, 675, 676, 678, 679, 680, 681, 682, 684, 685, 686, 687, 688, 690, 692, 693, 694, 695, 696, 698, 699, 700, 702, 704, 705, 706, 707, 708, 710, 711, 712, 714, 715, 716, 717, 718, 720, 721, 722, 723, 724, 725, 726, 728, 729, 730, 732, 734, 735, 736, 738, 740, 741, 742, 744, 745, 746, 747, 748, 749, 750, 752, 753, 754, 755, 756, 758, 759, 760, 762, 763, 764, 765, 766, 768, 770, 771, 772, 774, 775, 776, 777, 778, 780, 782, 783, 784, 785, 786, 788, 789, 790, 791, 792, 794, 795, 796, 798, 800, 801, 802, 804, 805, 806, 807, 808, 810, 812, 813, 814, 815, 816, 818, 819, 820, 822, 824, 825, 826, 828, 830, 831, 832, 833, 834, 835, 836, 837, 838, 840, 842, 843, 844, 845, 846, 847, 848, 849, 850, 852, 854, 855, 856, 858, 860, 861, 862, 864, 865, 866, 867, 868, 870, 872, 873, 874, 875, 876, 878, 879, 880, 882, 884, 885, 886, 888, 889, 890, 891, 892, 894, 895, 896, 897, 898, 900, 902, 903, 904, 905, 906, 908, 909, 910, 912, 914, 915, 916, 917, 918, 920, 921, 922, 924, 925, 926, 927, 928, 930, 931, 932, 933, 934, 935, 936, 938, 939, 940, 942, 944, 945, 946, 948, 950, 951, 952, 954, 955, 956, 957, 958, 959, 960, 962, 963, 964, 965, 966, 968, 969, 970, 972, 973, 974, 975, 976, 978, 980, 981, 982, 984, 985, 986, 987, 988, 990, 992, 993, 994, 995, 996, 998, 999, 1000]\n"
     ]
    }
   ],
   "source": [
    "def exercicio_14_3_3_2(ini,fim):\n",
    "    numeros = [n for n in range(ini,fim+1) for k in range (2,10) if n%k == 0]\n",
    "    numeros2 = []\n",
    "    for n in range (len(numeros)):\n",
    "        if numeros[n] not in numeros2:\n",
    "            numeros2.append(numeros[n])\n",
    "    return numeros2\n",
    "\n",
    "ini = 1\n",
    "fim = 1000\n",
    "print(exercicio_14_3_3_2(ini,fim))"
   ]
  },
  {
   "cell_type": "code",
   "execution_count": 149,
   "metadata": {},
   "outputs": [
    {
     "name": "stdout",
     "output_type": "stream",
     "text": [
      "[2, 3, 5, 7, 11, 13, 17, 19, 23, 29, 31, 37, 41, 43, 47, 53, 59, 61, 67, 71, 73, 79, 83, 89, 97]\n"
     ]
    }
   ],
   "source": [
    "def exercicio_14_3_4_1(ini,fim):\n",
    "    primos = []\n",
    "    for n in range (ini,fim+1):\n",
    "        contador = 0\n",
    "        for k in range (1,n+1):\n",
    "            if n%k == 0:\n",
    "                contador += 1\n",
    "        if contador == 2:\n",
    "            primos.append(n)\n",
    "    return primos\n",
    "\n",
    "ini = 1\n",
    "fim = 100\n",
    "print(exercicio_14_3_4_1(ini,fim))"
   ]
  },
  {
   "cell_type": "code",
   "execution_count": 147,
   "metadata": {},
   "outputs": [
    {
     "name": "stdout",
     "output_type": "stream",
     "text": [
      "[2, 3, 5, 7, 11, 13, 17, 19, 23, 29, 31, 37, 41, 43, 47, 53, 59, 61, 67, 71, 73, 79, 83, 89, 97]\n"
     ]
    }
   ],
   "source": [
    "def exercicio_14_3_4_1(ini,fim):\n",
    "    lista = [2, 3, 5, 7]\n",
    "    numeros = [n for n in range(ini,fim+1) for k in range (2,10) if n%k == 0]\n",
    "    primos = [c for c in range(ini,fim+1) if c not in numeros and c != 1 or c in lista]\n",
    "    return primos\n",
    "\n",
    "ini = 1\n",
    "fim = 100\n",
    "print(exercicio_14_3_4_1(ini,fim))"
   ]
  },
  {
   "cell_type": "code",
   "execution_count": 145,
   "metadata": {},
   "outputs": [
    {
     "name": "stdout",
     "output_type": "stream",
     "text": [
      "{2, 3, 5, 7, 11, 13, 17, 19, 23, 29, 31, 37, 41, 43, 47, 53, 59, 61, 67, 71, 73, 79, 83, 89, 97}\n"
     ]
    }
   ],
   "source": [
    "def exercicio_14_3_5_1(ini,fim):\n",
    "    primos = []\n",
    "    for n in range (ini,fim+1):\n",
    "        contador = 0\n",
    "        for k in range (1,n+1):\n",
    "            if n%k == 0:\n",
    "                contador += 1\n",
    "        if contador == 2:\n",
    "            primos.append(n)\n",
    "    primos = set(primos)\n",
    "    return primos\n",
    "               \n",
    "ini = 1\n",
    "fim = 100\n",
    "print(exercicio_14_3_5_1(ini,fim))"
   ]
  },
  {
   "cell_type": "code",
   "execution_count": 146,
   "metadata": {},
   "outputs": [
    {
     "name": "stdout",
     "output_type": "stream",
     "text": [
      "{2, 3, 5, 7, 11, 13, 17, 19, 23, 29, 31, 37, 41, 43, 47, 53, 59, 61, 67, 71, 73, 79, 83, 89, 97}\n"
     ]
    }
   ],
   "source": [
    "def exercicio_14_3_4_1(ini,fim):\n",
    "    lista = [2, 3, 5, 7]\n",
    "    numeros = [n for n in range(ini,fim+1) for k in range (2,10) if n%k == 0]\n",
    "    primos = [c for c in range(ini,fim+1) if c not in numeros and c != 1 or c in lista]\n",
    "    primos = set(primos)\n",
    "    return primos\n",
    "\n",
    "ini = 1\n",
    "fim = 100\n",
    "print(exercicio_14_3_4_1(ini,fim))"
   ]
  },
  {
   "cell_type": "code",
   "execution_count": 31,
   "metadata": {},
   "outputs": [
    {
     "name": "stdout",
     "output_type": "stream",
     "text": [
      "5\n"
     ]
    }
   ],
   "source": [
    "def exercicio_14_3_6_1(ini,fim):\n",
    "    espaco = 0\n",
    "    for e in texto:\n",
    "        if e == \" \":\n",
    "            espaco += 1\n",
    "    return espaco\n",
    "\n",
    "texto = \"a ave e o cao !\"\n",
    "print(exercicio_14_3_6_1(ini,fim))"
   ]
  },
  {
   "cell_type": "code",
   "execution_count": 130,
   "metadata": {},
   "outputs": [
    {
     "name": "stdout",
     "output_type": "stream",
     "text": [
      "5\n"
     ]
    }
   ],
   "source": [
    "def exercicio_14_3_6_2(texto):\n",
    "    e = [\" \" for e in texto if e == \" \"]\n",
    "    espacos = len(e)\n",
    "    return espacos\n",
    "    \n",
    "texto = \"a ave e o cao !\"    \n",
    "print(exercicio_14_3_6_2(texto))"
   ]
  },
  {
   "cell_type": "code",
   "execution_count": 20,
   "metadata": {},
   "outputs": [
    {
     "name": "stdout",
     "output_type": "stream",
     "text": [
      " v   c\n"
     ]
    }
   ],
   "source": [
    "def exercicio_14_3_7_1(texto):\n",
    "    a = list(texto)\n",
    "    for n in texto:\n",
    "        if n in \"AEIOUaeiou\":\n",
    "            a.remove(n)\n",
    "    semvogal = \"\".join(a)\n",
    "    return semvogal\n",
    "\n",
    "texto = \"A ave e o cao\"\n",
    "print(exercicio_14_3_7_1(texto))"
   ]
  },
  {
   "cell_type": "code",
   "execution_count": 27,
   "metadata": {},
   "outputs": [
    {
     "name": "stdout",
     "output_type": "stream",
     "text": [
      " v   cchrr\n"
     ]
    }
   ],
   "source": [
    "def exercicio_14_3_7_2(texto):\n",
    "    b = \"\".join([n for n in texto if n not in \"AEIOUaeiou\"])\n",
    "    return b\n",
    " \n",
    "texto = \"A ave e o cachorro\"    \n",
    "print(exercicio_14_3_7_2(texto))"
   ]
  },
  {
   "cell_type": "code",
   "execution_count": 66,
   "metadata": {},
   "outputs": [
    {
     "name": "stdout",
     "output_type": "stream",
     "text": [
      "{'a': 1, 'ave': 3, 'e': 1, 'o': 1, 'cao': 3}\n"
     ]
    }
   ],
   "source": [
    "def exercicio_14_3_8_1(ini,fim):\n",
    "    contador = texto.split()\n",
    "    dic = {}\n",
    "    for n in contador:\n",
    "        dic[n] = len(n)\n",
    "    return dic\n",
    "    \n",
    "texto = \"a ave e o cao\"\n",
    "print(exercicio_14_3_8_1(ini,fim))"
   ]
  },
  {
   "cell_type": "code",
   "execution_count": 70,
   "metadata": {},
   "outputs": [
    {
     "name": "stdout",
     "output_type": "stream",
     "text": [
      "{'A': 1, 'arvore': 6, 'de': 2, 'goiabas': 7}\n"
     ]
    }
   ],
   "source": [
    "def exercicio_14_3_8_2(texto):\n",
    "    contador = texto.split()\n",
    "    dic = {n : len(n) for n in contador}\n",
    "    return dic\n",
    "\n",
    "texto = \"A arvore de goiabas\"\n",
    "print(exercicio_14_3_8_2(texto))"
   ]
  }
 ],
 "metadata": {
  "kernelspec": {
   "display_name": "Python 3",
   "language": "python",
   "name": "python3"
  },
  "language_info": {
   "codemirror_mode": {
    "name": "ipython",
    "version": 3
   },
   "file_extension": ".py",
   "mimetype": "text/x-python",
   "name": "python",
   "nbconvert_exporter": "python",
   "pygments_lexer": "ipython3",
   "version": "3.7.3"
  }
 },
 "nbformat": 4,
 "nbformat_minor": 2
}
